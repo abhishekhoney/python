{
 "cells": [
  {
   "cell_type": "code",
   "execution_count": 1,
   "id": "eb4145fb-9477-477d-b330-a089887f4e73",
   "metadata": {},
   "outputs": [
    {
     "name": "stdout",
     "output_type": "stream",
     "text": [
      "Congrats!\n",
      "Congrats!\n",
      "Congrats!\n",
      "Congrats!\n",
      "Congrats!\n"
     ]
    }
   ],
   "source": [
    "for i in range(5):\n",
    " print(\"Congrats!\")"
   ]
  },
  {
   "cell_type": "code",
   "execution_count": 2,
   "id": "90fce7f4-b61b-45ef-b8e9-ff7d42288d63",
   "metadata": {},
   "outputs": [
    {
     "name": "stdout",
     "output_type": "stream",
     "text": [
      "Hello\n",
      "Hello\n",
      "Hello\n"
     ]
    }
   ],
   "source": [
    "for i in range(3):\n",
    "  print(\"Hello\")"
   ]
  },
  {
   "cell_type": "code",
   "execution_count": 3,
   "id": "805d9476-2243-423e-8f61-2fd47c7c67d9",
   "metadata": {},
   "outputs": [
    {
     "name": "stdout",
     "output_type": "stream",
     "text": [
      "0\n",
      "1\n",
      "2\n",
      "3\n"
     ]
    }
   ],
   "source": [
    "counter = 0\n",
    "while counter < 4:\n",
    " print(counter)\n",
    " counter = counter + 1"
   ]
  },
  {
   "cell_type": "code",
   "execution_count": 4,
   "id": "b13c89d2-7606-4459-a0d9-f0a2e9d21a7a",
   "metadata": {},
   "outputs": [
    {
     "name": "stdout",
     "output_type": "stream",
     "text": [
      "True\n",
      "False\n",
      "False\n"
     ]
    }
   ],
   "source": [
    "for i in range(3):\n",
    "  print(i < 1)"
   ]
  },
  {
   "cell_type": "code",
   "execution_count": 5,
   "id": "8327535e-3f66-4db8-9ee3-1d7947b8d73a",
   "metadata": {},
   "outputs": [
    {
     "name": "stdout",
     "output_type": "stream",
     "text": [
      "First\n",
      "Second\n",
      "First\n",
      "Second\n",
      "First\n",
      "Second\n"
     ]
    }
   ],
   "source": [
    "for i in range(3):\n",
    "  print(\"First\")\n",
    "  print(\"Second\")"
   ]
  },
  {
   "cell_type": "code",
   "execution_count": 6,
   "id": "a36f4fd9-df8a-4b6d-9550-2ba414e37c00",
   "metadata": {},
   "outputs": [
    {
     "name": "stdout",
     "output_type": "stream",
     "text": [
      "A\n",
      "A\n",
      "A\n",
      "B\n"
     ]
    }
   ],
   "source": [
    "for i in range(3):\n",
    "  print(\"A\")\n",
    "print(\"B\")"
   ]
  },
  {
   "cell_type": "code",
   "execution_count": 7,
   "id": "ef460b90-3a21-443a-b615-280556c384c9",
   "metadata": {},
   "outputs": [
    {
     "name": "stdout",
     "output_type": "stream",
     "text": [
      "Hello\n",
      "Hello\n",
      "Hello\n",
      "Hello\n",
      "Hello\n",
      "Goodbye\n"
     ]
    }
   ],
   "source": [
    "for i in range(5):\n",
    "  print(\"Hello\")\n",
    "print(\"Goodbye\")"
   ]
  },
  {
   "cell_type": "code",
   "execution_count": 8,
   "id": "b87f10f2-fb07-4475-91d5-f1f88812b6e6",
   "metadata": {},
   "outputs": [
    {
     "name": "stdout",
     "output_type": "stream",
     "text": [
      "True\n"
     ]
    }
   ],
   "source": [
    "password = \"SecretWord\"\n",
    "guess = \"1234\"\n",
    "print(guess != password)"
   ]
  },
  {
   "cell_type": "code",
   "execution_count": 9,
   "id": "9da78da5-8adb-4c6b-9f54-5c13f8e4173d",
   "metadata": {},
   "outputs": [
    {
     "name": "stdin",
     "output_type": "stream",
     "text": [
      " SecretWord\n"
     ]
    },
    {
     "name": "stdout",
     "output_type": "stream",
     "text": [
      "Access Granted\n"
     ]
    }
   ],
   "source": [
    "password = \"SecretWord\"\n",
    "guess = input()\n",
    "while guess != password:\n",
    "  guess = input()\n",
    "print(\"Access Granted\")"
   ]
  },
  {
   "cell_type": "code",
   "execution_count": 10,
   "id": "de9847e5-acc0-4a53-9e89-2579396f9778",
   "metadata": {},
   "outputs": [
    {
     "name": "stdout",
     "output_type": "stream",
     "text": [
      "Package A\n",
      "Package A\n",
      "Package A\n",
      "Package A\n",
      "Package A\n",
      "Package A\n",
      "Package A\n",
      "Package A\n",
      "Package A\n",
      "Package A\n",
      "Package A\n",
      "Package A\n",
      "Package A\n",
      "Package A\n",
      "Package A\n",
      "Package A\n",
      "Package A\n",
      "Package A\n",
      "Package A\n",
      "Package A\n",
      "Package A\n",
      "Package A\n",
      "Package A\n",
      "Package A\n",
      "Package A\n",
      "Package A\n",
      "Package A\n",
      "Package A\n",
      "Package A\n",
      "Package A\n",
      "Package A\n",
      "Package A\n",
      "Package A\n",
      "Package A\n",
      "Package A\n",
      "Package A\n",
      "Package A\n",
      "Package A\n",
      "Package A\n",
      "Package A\n",
      "Package A\n",
      "Package A\n",
      "Package A\n",
      "Package A\n",
      "Package A\n",
      "Package A\n",
      "Package A\n",
      "Package A\n",
      "Package A\n",
      "Package A\n",
      "Task complete\n"
     ]
    }
   ],
   "source": [
    "for box in range(50):\n",
    "  print(\"Package A\")\n",
    "print(\"Task complete\")"
   ]
  },
  {
   "cell_type": "code",
   "execution_count": null,
   "id": "9881374c-2632-412a-9802-b64f7db5ba55",
   "metadata": {},
   "outputs": [],
   "source": []
  }
 ],
 "metadata": {
  "kernelspec": {
   "display_name": "Python 3 (ipykernel)",
   "language": "python",
   "name": "python3"
  },
  "language_info": {
   "codemirror_mode": {
    "name": "ipython",
    "version": 3
   },
   "file_extension": ".py",
   "mimetype": "text/x-python",
   "name": "python",
   "nbconvert_exporter": "python",
   "pygments_lexer": "ipython3",
   "version": "3.11.7"
  }
 },
 "nbformat": 4,
 "nbformat_minor": 5
}
