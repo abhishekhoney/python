{
 "cells": [
  {
   "cell_type": "code",
   "execution_count": 2,
   "id": "141c2dbb-a8f3-4c1d-a349-9c6f862c143a",
   "metadata": {},
   "outputs": [
    {
     "name": "stdin",
     "output_type": "stream",
     "text": [
      "enter the number to be factorial: 5\n"
     ]
    },
    {
     "name": "stdout",
     "output_type": "stream",
     "text": [
      "factorial of 5 is 120\n"
     ]
    }
   ],
   "source": [
    "#Factorial\n",
    "#6!=6*5*4*3*2*1 =720\n",
    "#5!=5*4*3*2*1   =120\n",
    "n=int(input(\"enter the number to be factorial:\"))\n",
    "factorial=1\n",
    "if n<0:\n",
    "  print(\"cant find factorial of negative number\")\n",
    "elif n==0:\n",
    "  print(\"factorial of 0 is 1\")\n",
    "else:\n",
    "  for i in range(1,n+1):\n",
    "   factorial=factorial*i\n",
    "\n",
    "print(f'factorial of {n} is {factorial}')\n"
   ]
  },
  {
   "cell_type": "markdown",
   "id": "89cfa047-f144-4ba1-87c7-2e5f4d164d5f",
   "metadata": {},
   "source": [
    "# Fibonacci series\n",
    "### 0,1,1,2,3,5,8,13,21,34,55,....and so on"
   ]
  },
  {
   "cell_type": "code",
   "execution_count": 3,
   "id": "5c72be5b-92ae-46e5-96fd-6cb319234d11",
   "metadata": {},
   "outputs": [
    {
     "name": "stdin",
     "output_type": "stream",
     "text": [
      "how many terms 6\n"
     ]
    },
    {
     "name": "stdout",
     "output_type": "stream",
     "text": [
      "fibonacci series\n",
      "0\n",
      "1\n",
      "1\n",
      "2\n",
      "3\n",
      "5\n"
     ]
    }
   ],
   "source": [
    "#Fibonacci series\n",
    "# 0,1,1,2,3,5,8,13,21,34,55,....and so on\n",
    "nterms=int(input(\"how many terms\"))\n",
    "n1,n2=0,1\n",
    "count=0\n",
    "print(\"fibonacci series\")\n",
    "while count<nterms:\n",
    " print(n1)\n",
    " nth=n1+n2\n",
    " n1=n2\n",
    " n2=nth\n",
    " count+=1"
   ]
  },
  {
   "cell_type": "code",
   "execution_count": null,
   "id": "2e962550-20b5-4ead-916d-e233bb2cad1f",
   "metadata": {},
   "outputs": [],
   "source": []
  }
 ],
 "metadata": {
  "kernelspec": {
   "display_name": "Python 3 (ipykernel)",
   "language": "python",
   "name": "python3"
  },
  "language_info": {
   "codemirror_mode": {
    "name": "ipython",
    "version": 3
   },
   "file_extension": ".py",
   "mimetype": "text/x-python",
   "name": "python",
   "nbconvert_exporter": "python",
   "pygments_lexer": "ipython3",
   "version": "3.11.7"
  }
 },
 "nbformat": 4,
 "nbformat_minor": 5
}
