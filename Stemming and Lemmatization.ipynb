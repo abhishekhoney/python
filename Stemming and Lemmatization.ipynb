{
 "cells": [
  {
   "cell_type": "markdown",
   "id": "13c808cf-c1fe-4e10-a00f-379095bbc4f0",
   "metadata": {},
   "source": [
    "## Stemming "
   ]
  },
  {
   "cell_type": "code",
   "execution_count": 1,
   "id": "9e92239a-356c-46b9-8529-760f3e0d7783",
   "metadata": {},
   "outputs": [],
   "source": [
    "words=['run','runner','running','ran','runs','easily','fairly']"
   ]
  },
  {
   "cell_type": "code",
   "execution_count": 2,
   "id": "0f9dbe73-9748-4f0c-8dfd-b63fd7dede91",
   "metadata": {},
   "outputs": [],
   "source": [
    "import nltk"
   ]
  },
  {
   "cell_type": "code",
   "execution_count": 3,
   "id": "f74e796b-9a05-483f-8e20-7718928f6889",
   "metadata": {},
   "outputs": [],
   "source": [
    "from nltk.stem.porter import PorterStemmer #importing PorterStemmer from nltk.stem.porter allows you to perform stemming \n",
    "                                           #using the Porter stemming algorithm in NLTK\n",
    "from nltk.stem.snowball import  SnowballStemmer #Importing SnowballStemmer from nltk.stem.snowball allows you to perform stemming  \n",
    "                                                #using the Snowball stemming algorithm in NLTK"
   ]
  },
  {
   "cell_type": "code",
   "execution_count": 4,
   "id": "d789e859-1e19-45a3-b29f-b9cdf11d5861",
   "metadata": {},
   "outputs": [],
   "source": [
    "p_stemmer = PorterStemmer()  #creating instance for PorterStemmer\n",
    "s_stemmer = SnowballStemmer(language='english') #creating instance for SnowballStemmer"
   ]
  },
  {
   "cell_type": "code",
   "execution_count": 5,
   "id": "067c68da-473e-4ce6-a98d-a4e3872e164e",
   "metadata": {},
   "outputs": [
    {
     "name": "stdout",
     "output_type": "stream",
     "text": [
      "run ------  run\n",
      "runner ------  runner\n",
      "running ------  run\n",
      "ran ------  ran\n",
      "runs ------  run\n",
      "easily ------  easili\n",
      "fairly ------  fairli\n"
     ]
    }
   ],
   "source": [
    "for word in words:\n",
    "  print(word + ' ------  ' +p_stemmer.stem(word))"
   ]
  },
  {
   "cell_type": "code",
   "execution_count": 6,
   "id": "103ecc59-92cc-4b54-8469-9c2f3efceb0e",
   "metadata": {},
   "outputs": [
    {
     "name": "stdout",
     "output_type": "stream",
     "text": [
      "run ------  run\n",
      "runner ------  runner\n",
      "running ------  run\n",
      "ran ------  ran\n",
      "runs ------  run\n",
      "easily ------  easili\n",
      "fairly ------  fair\n"
     ]
    }
   ],
   "source": [
    "for word in words:\n",
    "  print(word + ' ------  ' +s_stemmer.stem(word))"
   ]
  },
  {
   "cell_type": "markdown",
   "id": "c2a70dd9-4572-4698-9786-906c77dd31c3",
   "metadata": {},
   "source": [
    "## Lemmatization"
   ]
  },
  {
   "cell_type": "code",
   "execution_count": 7,
   "id": "e9418df7-5f63-4d7a-9a11-c66573a74e72",
   "metadata": {},
   "outputs": [],
   "source": [
    "import spacy\n",
    "nlp = spacy.load('en_core_web_sm')"
   ]
  },
  {
   "cell_type": "code",
   "execution_count": 8,
   "id": "089b9eed-a46e-4e17-b8da-959c422eaeb6",
   "metadata": {},
   "outputs": [],
   "source": [
    "doc1 = nlp(\"The striped bats are hanging on their feet for best\")"
   ]
  },
  {
   "cell_type": "code",
   "execution_count": 9,
   "id": "dc8ad572-de5a-467d-a9a3-668b26fff023",
   "metadata": {},
   "outputs": [
    {
     "name": "stdout",
     "output_type": "stream",
     "text": [
      "The \t the\n",
      "striped \t stripe\n",
      "bats \t bat\n",
      "are \t be\n",
      "hanging \t hang\n",
      "on \t on\n",
      "their \t their\n",
      "feet \t foot\n",
      "for \t for\n",
      "best \t good\n"
     ]
    }
   ],
   "source": [
    "for token in doc1:\n",
    "  print(token.text, '\\t', token.lemma_)"
   ]
  },
  {
   "cell_type": "code",
   "execution_count": 10,
   "id": "7ada12fe-399f-47d3-b824-5abee10ee7a4",
   "metadata": {},
   "outputs": [
    {
     "name": "stdout",
     "output_type": "stream",
     "text": [
      "The ------  the\n",
      "striped ------  stripe\n",
      "bats ------  bat\n",
      "are ------  are\n",
      "hanging ------  hang\n",
      "on ------  on\n",
      "their ------  their\n",
      "feet ------  feet\n",
      "for ------  for\n",
      "best ------  best\n"
     ]
    }
   ],
   "source": [
    "s1 = \"The striped bats are hanging on their feet for best\"\n",
    "for word in s1.split():\n",
    "  print(word + ' ------  ' +p_stemmer.stem(word))"
   ]
  },
  {
   "cell_type": "code",
   "execution_count": null,
   "id": "c5c79c76-5301-42a0-825c-458db61ae40c",
   "metadata": {},
   "outputs": [],
   "source": []
  },
  {
   "cell_type": "code",
   "execution_count": null,
   "id": "3fd3f70a-99be-465b-91d6-a354b4e7493a",
   "metadata": {},
   "outputs": [],
   "source": []
  },
  {
   "cell_type": "code",
   "execution_count": null,
   "id": "7680d83f-fab2-498a-b0a7-56564b2b6a61",
   "metadata": {},
   "outputs": [],
   "source": []
  }
 ],
 "metadata": {
  "kernelspec": {
   "display_name": "Python 3 (ipykernel)",
   "language": "python",
   "name": "python3"
  },
  "language_info": {
   "codemirror_mode": {
    "name": "ipython",
    "version": 3
   },
   "file_extension": ".py",
   "mimetype": "text/x-python",
   "name": "python",
   "nbconvert_exporter": "python",
   "pygments_lexer": "ipython3",
   "version": "3.11.7"
  }
 },
 "nbformat": 4,
 "nbformat_minor": 5
}
