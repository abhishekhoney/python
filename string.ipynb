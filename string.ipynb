{
 "cells": [
  {
   "cell_type": "code",
   "execution_count": 1,
   "id": "cd68a9ce-5a1d-4af7-b815-223b6458f75f",
   "metadata": {},
   "outputs": [
    {
     "name": "stdout",
     "output_type": "stream",
     "text": [
      "abhishek 'love' verma\n"
     ]
    }
   ],
   "source": [
    "print(\"abhishek 'love' verma\")"
   ]
  },
  {
   "cell_type": "code",
   "execution_count": 2,
   "id": "7cc89393-3a3c-4208-abf9-0ad9867b2a65",
   "metadata": {},
   "outputs": [
    {
     "name": "stdout",
     "output_type": "stream",
     "text": [
      "abhishek \"love\" verma\n"
     ]
    }
   ],
   "source": [
    "print('abhishek \"love\" verma')"
   ]
  },
  {
   "cell_type": "code",
   "execution_count": 3,
   "id": "4db81708-e0ee-4f89-bee1-e058d561df88",
   "metadata": {},
   "outputs": [
    {
     "name": "stdout",
     "output_type": "stream",
     "text": [
      "The meaning of PASSAGE \\\"is\\\" a way of exit or entrance\n"
     ]
    }
   ],
   "source": [
    "print('The meaning of PASSAGE \\\\\"is\\\\\" a way of exit or entrance')"
   ]
  },
  {
   "cell_type": "code",
   "execution_count": 4,
   "id": "37c188b7-c287-408b-82ea-4a780b9a561c",
   "metadata": {},
   "outputs": [
    {
     "name": "stdout",
     "output_type": "stream",
     "text": [
      "balance\n"
     ]
    }
   ],
   "source": [
    "print(\"balance\")"
   ]
  },
  {
   "cell_type": "code",
   "execution_count": 5,
   "id": "0a73e5aa-c0d3-4f47-abd6-d9d8ab9a2c83",
   "metadata": {},
   "outputs": [
    {
     "name": "stdout",
     "output_type": "stream",
     "text": [
      "abhishek working 'as' data analyst\n"
     ]
    }
   ],
   "source": [
    "print(\"abhishek working \\'as' data analyst\")"
   ]
  },
  {
   "cell_type": "code",
   "execution_count": 6,
   "id": "4f471ab0-f22f-40d6-b8d9-c4882f7e18b9",
   "metadata": {},
   "outputs": [
    {
     "name": "stdout",
     "output_type": "stream",
     "text": [
      "abhishek working \"as\" data analyst\n"
     ]
    }
   ],
   "source": [
    "print(\"abhishek working \\\"as\\\" data analyst\")"
   ]
  },
  {
   "cell_type": "code",
   "execution_count": 7,
   "id": "e3722208-c996-4462-afe1-90831fd7c1d7",
   "metadata": {},
   "outputs": [
    {
     "name": "stdout",
     "output_type": "stream",
     "text": [
      "abhishek working 'as' data analyst\n"
     ]
    }
   ],
   "source": [
    "print(\"abhishek working \\'as\\' data analyst\")"
   ]
  },
  {
   "cell_type": "code",
   "execution_count": 8,
   "id": "7d9c1311-6635-4924-a00e-34a30afd394b",
   "metadata": {},
   "outputs": [
    {
     "name": "stdout",
     "output_type": "stream",
     "text": [
      "abhishek working \\as data analyst\n"
     ]
    }
   ],
   "source": [
    "print(\"abhishek working \\\\as data analyst\")"
   ]
  },
  {
   "cell_type": "code",
   "execution_count": 9,
   "id": "5a6838b8-75c0-4f0d-a74d-09d4f067ba7e",
   "metadata": {},
   "outputs": [
    {
     "name": "stdout",
     "output_type": "stream",
     "text": [
      "data scientistNew job\n"
     ]
    }
   ],
   "source": [
    "var=('data scientist' + 'New job')\n",
    "print(var)"
   ]
  },
  {
   "cell_type": "code",
   "execution_count": 10,
   "id": "c6a88f34-d658-4129-ba62-1079d1ae7db3",
   "metadata": {},
   "outputs": [
    {
     "name": "stdout",
     "output_type": "stream",
     "text": [
      "data scientist New job\n"
     ]
    }
   ],
   "source": [
    "var=('data scientist' + ' ' + 'New job')\n",
    "print(var)"
   ]
  },
  {
   "cell_type": "code",
   "execution_count": 11,
   "id": "3521bb2f-d5a4-4718-8b05-9e6969fd282c",
   "metadata": {},
   "outputs": [
    {
     "name": "stdout",
     "output_type": "stream",
     "text": [
      "None\n"
     ]
    }
   ],
   "source": [
    "user=None\n",
    "print(user)"
   ]
  },
  {
   "cell_type": "code",
   "execution_count": 12,
   "id": "85014406-3874-4f03-bbb5-f902092a84a0",
   "metadata": {},
   "outputs": [],
   "source": [
    "msg=\"data scientist New job\""
   ]
  },
  {
   "cell_type": "code",
   "execution_count": 13,
   "id": "9a65bc24-9376-4448-aec9-2d891ca4f4bb",
   "metadata": {},
   "outputs": [
    {
     "data": {
      "text/plain": [
       "'d'"
      ]
     },
     "execution_count": 13,
     "metadata": {},
     "output_type": "execute_result"
    }
   ],
   "source": [
    "msg[0]"
   ]
  },
  {
   "cell_type": "code",
   "execution_count": 14,
   "id": "be1d3e3c-8542-4f36-8020-91da110eed65",
   "metadata": {},
   "outputs": [
    {
     "data": {
      "text/plain": [
       "'t c'"
      ]
     },
     "execution_count": 14,
     "metadata": {},
     "output_type": "execute_result"
    }
   ],
   "source": [
    "msg[2:8:2]"
   ]
  },
  {
   "cell_type": "code",
   "execution_count": 15,
   "id": "7d9d8b02-d25a-45b3-b992-561d94285612",
   "metadata": {},
   "outputs": [
    {
     "name": "stdout",
     "output_type": "stream",
     "text": [
      "t c\n"
     ]
    }
   ],
   "source": [
    "print(msg[2:8:2])"
   ]
  },
  {
   "cell_type": "code",
   "execution_count": 16,
   "id": "f03a03cb-7c55-4783-a612-906b89542b39",
   "metadata": {},
   "outputs": [
    {
     "name": "stdout",
     "output_type": "stream",
     "text": [
      "pancake\n"
     ]
    }
   ],
   "source": [
    "print('pan'+\"cake\") #concatitation"
   ]
  },
  {
   "cell_type": "code",
   "execution_count": 17,
   "id": "0478f854-5d6b-47fe-b95b-c6e69de3605c",
   "metadata": {},
   "outputs": [
    {
     "name": "stdout",
     "output_type": "stream",
     "text": [
      "pancake\n"
     ]
    }
   ],
   "source": [
    "a=\"pan\"\n",
    "b=\"cake\"\n",
    "print(a+b)"
   ]
  },
  {
   "cell_type": "code",
   "execution_count": 18,
   "id": "6a27160c-6b19-4e89-aeed-b6cf0b5a314a",
   "metadata": {},
   "outputs": [
    {
     "name": "stdout",
     "output_type": "stream",
     "text": [
      "tist New job\n"
     ]
    }
   ],
   "source": [
    "print(msg[10:])"
   ]
  },
  {
   "cell_type": "code",
   "execution_count": 19,
   "id": "4a87af82-eee7-41b4-88e3-fb329dc66cc9",
   "metadata": {},
   "outputs": [
    {
     "name": "stdout",
     "output_type": "stream",
     "text": [
      "data sc\n"
     ]
    }
   ],
   "source": [
    "print(msg[:7])"
   ]
  },
  {
   "cell_type": "code",
   "execution_count": 20,
   "id": "59a0cb48-f616-4a5a-8246-357f35e44304",
   "metadata": {},
   "outputs": [],
   "source": [
    "var=\"abhishek verma\""
   ]
  },
  {
   "cell_type": "code",
   "execution_count": 21,
   "id": "525bd5d6-bbbf-44ad-83b8-7918c5942635",
   "metadata": {},
   "outputs": [
    {
     "data": {
      "text/plain": [
       "14"
      ]
     },
     "execution_count": 21,
     "metadata": {},
     "output_type": "execute_result"
    }
   ],
   "source": [
    "len(var)"
   ]
  },
  {
   "cell_type": "code",
   "execution_count": 22,
   "id": "a1117dca-38b6-47ab-b187-861870f74fc8",
   "metadata": {},
   "outputs": [
    {
     "data": {
      "text/plain": [
       "14"
      ]
     },
     "execution_count": 22,
     "metadata": {},
     "output_type": "execute_result"
    }
   ],
   "source": [
    "len(\"abhishek verma\")"
   ]
  },
  {
   "cell_type": "code",
   "execution_count": 23,
   "id": "1ab797b2-2bf9-44b1-b4e4-28a2d1b818ab",
   "metadata": {},
   "outputs": [
    {
     "name": "stdin",
     "output_type": "stream",
     "text": [
      " 22\n"
     ]
    }
   ],
   "source": [
    "age=input()"
   ]
  },
  {
   "cell_type": "code",
   "execution_count": 24,
   "id": "b6156191-6eab-4af0-aaa7-f703563322b6",
   "metadata": {},
   "outputs": [
    {
     "data": {
      "text/plain": [
       "int"
      ]
     },
     "execution_count": 24,
     "metadata": {},
     "output_type": "execute_result"
    }
   ],
   "source": [
    "type(99)"
   ]
  },
  {
   "cell_type": "code",
   "execution_count": 25,
   "id": "09fbe94e-2dc5-45a1-b8b1-0fe562ddc241",
   "metadata": {},
   "outputs": [],
   "source": [
    "var=float(\"3\")"
   ]
  },
  {
   "cell_type": "code",
   "execution_count": 26,
   "id": "351d0338-bffa-4a28-8820-0f3b1841d320",
   "metadata": {},
   "outputs": [
    {
     "data": {
      "text/plain": [
       "3.0"
      ]
     },
     "execution_count": 26,
     "metadata": {},
     "output_type": "execute_result"
    }
   ],
   "source": [
    "var"
   ]
  },
  {
   "cell_type": "code",
   "execution_count": 27,
   "id": "4180a2ab-f73b-468b-8180-d641c5315b02",
   "metadata": {},
   "outputs": [
    {
     "data": {
      "text/plain": [
       "'Abhishek verma'"
      ]
     },
     "execution_count": 27,
     "metadata": {},
     "output_type": "execute_result"
    }
   ],
   "source": [
    "'abhishek verma'.capitalize()"
   ]
  },
  {
   "cell_type": "code",
   "execution_count": 1,
   "id": "8ce3bb56-eb72-4a48-ad05-6c7adbc42fe2",
   "metadata": {},
   "outputs": [
    {
     "data": {
      "text/plain": [
       "'ABHISHEK VERMA'"
      ]
     },
     "execution_count": 1,
     "metadata": {},
     "output_type": "execute_result"
    }
   ],
   "source": [
    "'abhishek verma'.upper()"
   ]
  },
  {
   "cell_type": "code",
   "execution_count": 2,
   "id": "6c77fbe2-acc8-4b70-a0ae-434395557179",
   "metadata": {},
   "outputs": [
    {
     "data": {
      "text/plain": [
       "'abhishek verma'"
      ]
     },
     "execution_count": 2,
     "metadata": {},
     "output_type": "execute_result"
    }
   ],
   "source": [
    "'ABHISHEK VERMA'.lower()"
   ]
  },
  {
   "cell_type": "code",
   "execution_count": 28,
   "id": "bd47d068-c6f6-4542-8b57-8c5681455e55",
   "metadata": {},
   "outputs": [
    {
     "data": {
      "text/plain": [
       "6"
      ]
     },
     "execution_count": 28,
     "metadata": {},
     "output_type": "execute_result"
    }
   ],
   "source": [
    "'Abhishek verma'.find('e')"
   ]
  },
  {
   "cell_type": "code",
   "execution_count": 5,
   "id": "c65b142a-0d15-4d8f-95af-e664f8fc9c40",
   "metadata": {},
   "outputs": [
    {
     "name": "stdout",
     "output_type": "stream",
     "text": [
      "['cat', 'bird', 'cow']\n"
     ]
    }
   ],
   "source": [
    "animals =['dog', 'cat', 'bird', 'cow']\n",
    "print(animals[1:4])"
   ]
  },
  {
   "cell_type": "code",
   "execution_count": 6,
   "id": "9c1453ad-d72a-4fbe-93f7-36529a01a1a4",
   "metadata": {},
   "outputs": [
    {
     "name": "stdout",
     "output_type": "stream",
     "text": [
      "['bird', 'cow']\n"
     ]
    }
   ],
   "source": [
    "animals =['cat', 'dog', 'bird', 'cow']\n",
    "print(animals[2:4])"
   ]
  },
  {
   "cell_type": "code",
   "execution_count": 7,
   "id": "41e64121-ba6e-434d-93b5-32c31dcb5e1f",
   "metadata": {},
   "outputs": [
    {
     "name": "stdout",
     "output_type": "stream",
     "text": [
      "['dog', 'cat', 'bird']\n"
     ]
    }
   ],
   "source": [
    "animals =['dog', 'cat', 'bird', 'cow']\n",
    "print(animals[0:3])"
   ]
  },
  {
   "cell_type": "code",
   "execution_count": 10,
   "id": "2e27cd46-aa0c-4bd4-8f15-bfe05f49eed8",
   "metadata": {},
   "outputs": [
    {
     "name": "stdout",
     "output_type": "stream",
     "text": [
      "['dog', 'cat', 'bird']\n"
     ]
    }
   ],
   "source": [
    "animals =['dog', 'cat', 'bird', 'cow']\n",
    "print(animals[0:3])"
   ]
  },
  {
   "cell_type": "code",
   "execution_count": 11,
   "id": "d73bf799-75ba-4d0d-bb3d-3c562f625aa2",
   "metadata": {},
   "outputs": [
    {
     "name": "stdout",
     "output_type": "stream",
     "text": [
      "['€', '¥']\n"
     ]
    }
   ],
   "source": [
    "c = ['$', '£', '€', '¥']\n",
    "print(c[-2:])"
   ]
  },
  {
   "cell_type": "code",
   "execution_count": 12,
   "id": "ae0b36d8-2182-4570-b344-0a70045219fa",
   "metadata": {},
   "outputs": [
    {
     "name": "stdout",
     "output_type": "stream",
     "text": [
      "['£', '€']\n"
     ]
    }
   ],
   "source": [
    "c = ['$', '£', '€', '¥']\n",
    "print(c[-3:-1])"
   ]
  },
  {
   "cell_type": "code",
   "execution_count": 13,
   "id": "4e29a023-bda3-4adc-ac84-3271b239b778",
   "metadata": {},
   "outputs": [
    {
     "name": "stdout",
     "output_type": "stream",
     "text": [
      "['£', '€']\n"
     ]
    }
   ],
   "source": [
    "c = ['$', '£', '€', '¥']\n",
    "print(c[1:-1])"
   ]
  },
  {
   "cell_type": "code",
   "execution_count": 16,
   "id": "dc093478-6850-4f1c-aefc-6954beaea8c8",
   "metadata": {},
   "outputs": [
    {
     "name": "stdout",
     "output_type": "stream",
     "text": [
      "<class 'list'>\n"
     ]
    }
   ],
   "source": [
    "print(type(c))"
   ]
  },
  {
   "cell_type": "code",
   "execution_count": 14,
   "id": "2d13c381-fb4d-4176-8eec-585e14d016eb",
   "metadata": {},
   "outputs": [
    {
     "name": "stdout",
     "output_type": "stream",
     "text": [
      "bike\n"
     ]
    }
   ],
   "source": [
    "vehicle = 'motorbike'\n",
    "print(vehicle[-4:])"
   ]
  },
  {
   "cell_type": "code",
   "execution_count": 22,
   "id": "bb5ee566-bfde-4095-962e-9a4442ff7db5",
   "metadata": {},
   "outputs": [
    {
     "ename": "TypeError",
     "evalue": "'str' object does not support item assignment",
     "output_type": "error",
     "traceback": [
      "\u001b[0;31m---------------------------------------------------------------------------\u001b[0m",
      "\u001b[0;31mTypeError\u001b[0m                                 Traceback (most recent call last)",
      "Cell \u001b[0;32mIn[22], line 2\u001b[0m\n\u001b[1;32m      1\u001b[0m vehicle \u001b[38;5;241m=\u001b[39m \u001b[38;5;124m'\u001b[39m\u001b[38;5;124mairplane\u001b[39m\u001b[38;5;124m'\u001b[39m\n\u001b[0;32m----> 2\u001b[0m vehicle[\u001b[38;5;241m3\u001b[39m:] \u001b[38;5;241m=\u001b[39m \u001b[38;5;124m'\u001b[39m\u001b[38;5;124mwat\u001b[39m\u001b[38;5;124m'\u001b[39m\n\u001b[1;32m      3\u001b[0m \u001b[38;5;28mprint\u001b[39m(vehicle)\n",
      "\u001b[0;31mTypeError\u001b[0m: 'str' object does not support item assignment"
     ]
    }
   ],
   "source": [
    "vehicle = 'airplane'\n",
    "vehicle[3:] = 'wat'\n",
    "print(vehicle)"
   ]
  },
  {
   "cell_type": "code",
   "execution_count": 5,
   "id": "c8b041b7-3a34-41ee-b74f-345b55a1ba44",
   "metadata": {},
   "outputs": [],
   "source": [
    "myrange=range(10,19,3) #range-10,11,12,13,14,15,16,17,18   final myrange-10,13,16"
   ]
  },
  {
   "cell_type": "code",
   "execution_count": 7,
   "id": "798708e1-2413-4e68-9b53-bfa65dfa7651",
   "metadata": {},
   "outputs": [
    {
     "data": {
      "text/plain": [
       "range(10, 19, 3)"
      ]
     },
     "execution_count": 7,
     "metadata": {},
     "output_type": "execute_result"
    }
   ],
   "source": [
    "myrange"
   ]
  },
  {
   "cell_type": "code",
   "execution_count": 8,
   "id": "9336846c-a6fc-4f88-a8d9-632b5c322477",
   "metadata": {},
   "outputs": [
    {
     "data": {
      "text/plain": [
       "16"
      ]
     },
     "execution_count": 8,
     "metadata": {},
     "output_type": "execute_result"
    }
   ],
   "source": [
    "list(myrange)[2]"
   ]
  },
  {
   "cell_type": "code",
   "execution_count": 1,
   "id": "a95012a5-f094-4635-839d-5a1b2e4486b1",
   "metadata": {},
   "outputs": [],
   "source": [
    "temp = 24\n",
    "unit = \"°C\""
   ]
  },
  {
   "cell_type": "code",
   "execution_count": 2,
   "id": "65e11353-4282-48f8-aa98-9c2dbfe1567b",
   "metadata": {},
   "outputs": [
    {
     "name": "stdout",
     "output_type": "stream",
     "text": [
      "24°C\n"
     ]
    }
   ],
   "source": [
    "print(str(temp)+(unit))"
   ]
  },
  {
   "cell_type": "code",
   "execution_count": 3,
   "id": "1a8bb85c-e089-47dc-82d1-a80715f78639",
   "metadata": {},
   "outputs": [],
   "source": [
    "a = 5\n",
    "b = True\n",
    "c = a > 8\n",
    "d = b or c"
   ]
  },
  {
   "cell_type": "code",
   "execution_count": 4,
   "id": "bece181d-6014-49b5-a8d0-fb9a25abb840",
   "metadata": {},
   "outputs": [
    {
     "data": {
      "text/plain": [
       "True"
      ]
     },
     "execution_count": 4,
     "metadata": {},
     "output_type": "execute_result"
    }
   ],
   "source": [
    "d"
   ]
  },
  {
   "cell_type": "code",
   "execution_count": 13,
   "id": "23082e62-40bd-4baa-869b-6d03ea27b0fa",
   "metadata": {},
   "outputs": [],
   "source": [
    "myrange=range(5,15,4)[::2]  #range-5,6,7,8,9,10,11,12,13,14     myrange-5,9,13 --->5,13"
   ]
  },
  {
   "cell_type": "code",
   "execution_count": 14,
   "id": "cc5ae107-00f0-49ff-abae-3d41364ee934",
   "metadata": {},
   "outputs": [
    {
     "data": {
      "text/plain": [
       "[5, 13]"
      ]
     },
     "execution_count": 14,
     "metadata": {},
     "output_type": "execute_result"
    }
   ],
   "source": [
    "list(myrange)"
   ]
  },
  {
   "cell_type": "code",
   "execution_count": 15,
   "id": "697aa816-1a57-4ca6-8221-7b47ceb29e88",
   "metadata": {},
   "outputs": [],
   "source": [
    "my=range(5)"
   ]
  },
  {
   "cell_type": "code",
   "execution_count": 16,
   "id": "7558cbb6-1ea1-479b-876d-eead4e472c73",
   "metadata": {},
   "outputs": [
    {
     "data": {
      "text/plain": [
       "range(0, 5)"
      ]
     },
     "execution_count": 16,
     "metadata": {},
     "output_type": "execute_result"
    }
   ],
   "source": [
    "my"
   ]
  },
  {
   "cell_type": "code",
   "execution_count": null,
   "id": "801b916e-af0b-4d63-84da-ea343dd4c004",
   "metadata": {},
   "outputs": [],
   "source": []
  },
  {
   "cell_type": "code",
   "execution_count": null,
   "id": "ab6867ae-1e09-4494-af8b-a89d46cda1c7",
   "metadata": {},
   "outputs": [],
   "source": []
  },
  {
   "cell_type": "code",
   "execution_count": null,
   "id": "c9640df9-d921-440a-a513-6c5f886cd82e",
   "metadata": {},
   "outputs": [],
   "source": []
  }
 ],
 "metadata": {
  "kernelspec": {
   "display_name": "Python 3 (ipykernel)",
   "language": "python",
   "name": "python3"
  },
  "language_info": {
   "codemirror_mode": {
    "name": "ipython",
    "version": 3
   },
   "file_extension": ".py",
   "mimetype": "text/x-python",
   "name": "python",
   "nbconvert_exporter": "python",
   "pygments_lexer": "ipython3",
   "version": "3.11.7"
  }
 },
 "nbformat": 4,
 "nbformat_minor": 5
}
