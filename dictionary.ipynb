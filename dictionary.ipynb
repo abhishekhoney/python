{
 "cells": [
  {
   "cell_type": "code",
   "execution_count": 1,
   "id": "fd58a6b2-10d9-40c2-8a84-8f8c6852b824",
   "metadata": {},
   "outputs": [],
   "source": [
    "report_card={'name':'abhi','sub':'data science','marks':58}"
   ]
  },
  {
   "cell_type": "code",
   "execution_count": 2,
   "id": "95ad1ef1-75e8-4090-bff6-c73ead07c592",
   "metadata": {},
   "outputs": [
    {
     "data": {
      "text/plain": [
       "{'name': 'abhi', 'sub': 'data science', 'marks': 58}"
      ]
     },
     "execution_count": 2,
     "metadata": {},
     "output_type": "execute_result"
    }
   ],
   "source": [
    "report_card"
   ]
  },
  {
   "cell_type": "code",
   "execution_count": 3,
   "id": "87eaa708-7dbd-4bde-a533-f312200a2e95",
   "metadata": {},
   "outputs": [],
   "source": [
    "report_card={'name':'abhi','sub':'data science','marks':58,'name':'verma'}"
   ]
  },
  {
   "cell_type": "code",
   "execution_count": 4,
   "id": "6aee4c2d-edc0-4765-ab35-67a81793e528",
   "metadata": {},
   "outputs": [
    {
     "data": {
      "text/plain": [
       "{'name': 'verma', 'sub': 'data science', 'marks': 58}"
      ]
     },
     "execution_count": 4,
     "metadata": {},
     "output_type": "execute_result"
    }
   ],
   "source": [
    "report_card"
   ]
  },
  {
   "cell_type": "code",
   "execution_count": 5,
   "id": "0e2766b6-df2a-443d-8a55-beb199ecf0ad",
   "metadata": {},
   "outputs": [],
   "source": [
    "report_card={'name':['honey','abhi','verma'],'sub':['data science','maths','english'],'marks':[90,88,85]}"
   ]
  },
  {
   "cell_type": "code",
   "execution_count": 6,
   "id": "1f566fc6-478a-4b05-9162-010595edf53f",
   "metadata": {},
   "outputs": [
    {
     "data": {
      "text/plain": [
       "{'name': ['honey', 'abhi', 'verma'],\n",
       " 'sub': ['data science', 'maths', 'english'],\n",
       " 'marks': [90, 88, 85]}"
      ]
     },
     "execution_count": 6,
     "metadata": {},
     "output_type": "execute_result"
    }
   ],
   "source": [
    "report_card"
   ]
  },
  {
   "cell_type": "code",
   "execution_count": 7,
   "id": "3c03e4e3-96cf-4bff-96d2-b48199443174",
   "metadata": {},
   "outputs": [
    {
     "data": {
      "text/plain": [
       "dict_keys(['name', 'sub', 'marks'])"
      ]
     },
     "execution_count": 7,
     "metadata": {},
     "output_type": "execute_result"
    }
   ],
   "source": [
    "report_card.keys()"
   ]
  },
  {
   "cell_type": "code",
   "execution_count": 8,
   "id": "85c13cf8-bca4-4cc6-bfbf-93e766d2fd80",
   "metadata": {},
   "outputs": [
    {
     "data": {
      "text/plain": [
       "dict_items([('name', ['honey', 'abhi', 'verma']), ('sub', ['data science', 'maths', 'english']), ('marks', [90, 88, 85])])"
      ]
     },
     "execution_count": 8,
     "metadata": {},
     "output_type": "execute_result"
    }
   ],
   "source": [
    "report_card.items()"
   ]
  },
  {
   "cell_type": "code",
   "execution_count": 11,
   "id": "ee4b8516-3cf3-4037-9394-dbd823b09f9f",
   "metadata": {},
   "outputs": [],
   "source": [
    "ee={'ukrain':'43.7m','russia':'143.8m','poland':'38.1m','romania':'19.5m','bulgaria':'6.9m','hungary':'9.6m','moldova':'4.1m','estonia':'1.3m'}"
   ]
  },
  {
   "cell_type": "code",
   "execution_count": 12,
   "id": "f8bb4e8c-f783-4d06-a2cf-68c24398fc79",
   "metadata": {},
   "outputs": [
    {
     "data": {
      "text/plain": [
       "['1.3m', '143.8m', '19.5m', '38.1m', '4.1m', '43.7m', '6.9m', '9.6m']"
      ]
     },
     "execution_count": 12,
     "metadata": {},
     "output_type": "execute_result"
    }
   ],
   "source": [
    "sorted(ee.values())"
   ]
  },
  {
   "cell_type": "code",
   "execution_count": null,
   "id": "50595cb8-2ae4-466e-aca8-ee2fae5750c8",
   "metadata": {},
   "outputs": [],
   "source": []
  }
 ],
 "metadata": {
  "kernelspec": {
   "display_name": "Python 3 (ipykernel)",
   "language": "python",
   "name": "python3"
  },
  "language_info": {
   "codemirror_mode": {
    "name": "ipython",
    "version": 3
   },
   "file_extension": ".py",
   "mimetype": "text/x-python",
   "name": "python",
   "nbconvert_exporter": "python",
   "pygments_lexer": "ipython3",
   "version": "3.11.7"
  }
 },
 "nbformat": 4,
 "nbformat_minor": 5
}
