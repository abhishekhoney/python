{
 "cells": [
  {
   "cell_type": "code",
   "execution_count": 1,
   "id": "dc15c016-5751-450d-827a-3785b18eab96",
   "metadata": {},
   "outputs": [
    {
     "name": "stdout",
     "output_type": "stream",
     "text": [
      "12\n"
     ]
    }
   ],
   "source": [
    "a=5\n",
    "b=7\n",
    "print(a+b)"
   ]
  },
  {
   "cell_type": "code",
   "execution_count": 3,
   "id": "1d464355-7125-4a56-a94e-a0dbdf42d24e",
   "metadata": {},
   "outputs": [
    {
     "data": {
      "text/plain": [
       "100.0"
      ]
     },
     "execution_count": 3,
     "metadata": {},
     "output_type": "execute_result"
    }
   ],
   "source": [
    "100-5**2/5*2+10"
   ]
  },
  {
   "cell_type": "code",
   "execution_count": 4,
   "id": "e409a4b0-62df-4ec5-b0ad-9a6ccee1c6da",
   "metadata": {},
   "outputs": [
    {
     "data": {
      "text/plain": [
       "0"
      ]
     },
     "execution_count": 4,
     "metadata": {},
     "output_type": "execute_result"
    }
   ],
   "source": [
    "100-5**2*2**2"
   ]
  },
  {
   "cell_type": "code",
   "execution_count": 5,
   "id": "10d051b2-6197-469d-90aa-71c7ce38d25d",
   "metadata": {},
   "outputs": [
    {
     "data": {
      "text/plain": [
       "10.0"
      ]
     },
     "execution_count": 5,
     "metadata": {},
     "output_type": "execute_result"
    }
   ],
   "source": [
    "5**2/5*2"
   ]
  },
  {
   "cell_type": "code",
   "execution_count": 6,
   "id": "8c197722-3b82-48b0-808e-cabfbc2cd9a9",
   "metadata": {},
   "outputs": [],
   "source": [
    "salary=45000"
   ]
  },
  {
   "cell_type": "code",
   "execution_count": 7,
   "id": "7c831d1c-fe5f-4214-9ae7-9bc35562f35a",
   "metadata": {},
   "outputs": [
    {
     "data": {
      "text/plain": [
       "57500"
      ]
     },
     "execution_count": 7,
     "metadata": {},
     "output_type": "execute_result"
    }
   ],
   "source": [
    "salary+12500"
   ]
  },
  {
   "cell_type": "code",
   "execution_count": 8,
   "id": "9c043bfb-c619-4c1d-9668-0fb212a1ae50",
   "metadata": {},
   "outputs": [
    {
     "ename": "TypeError",
     "evalue": "'str' object does not support item assignment",
     "output_type": "error",
     "traceback": [
      "\u001b[0;31m---------------------------------------------------------------------------\u001b[0m",
      "\u001b[0;31mTypeError\u001b[0m                                 Traceback (most recent call last)",
      "Cell \u001b[0;32mIn[8], line 2\u001b[0m\n\u001b[1;32m      1\u001b[0m word \u001b[38;5;241m=\u001b[39m \u001b[38;5;124m\"\u001b[39m\u001b[38;5;124mrun\u001b[39m\u001b[38;5;124m\"\u001b[39m\n\u001b[0;32m----> 2\u001b[0m word[\u001b[38;5;241m0\u001b[39m] \u001b[38;5;241m=\u001b[39m \u001b[38;5;124m\"\u001b[39m\u001b[38;5;124mf\u001b[39m\u001b[38;5;124m\"\u001b[39m\n\u001b[1;32m      3\u001b[0m \u001b[38;5;28mprint\u001b[39m(word)\n",
      "\u001b[0;31mTypeError\u001b[0m: 'str' object does not support item assignment"
     ]
    }
   ],
   "source": [
    "word = \"run\"\n",
    "word[0] = \"f\"\n",
    "print(word)"
   ]
  },
  {
   "cell_type": "code",
   "execution_count": 9,
   "id": "afbe497a-bad3-406d-a9be-c5a3fb8f512f",
   "metadata": {},
   "outputs": [
    {
     "name": "stdout",
     "output_type": "stream",
     "text": [
      "48\n"
     ]
    }
   ],
   "source": [
    "num = '45' # string\n",
    "print(int(num) + 3)"
   ]
  },
  {
   "cell_type": "code",
   "execution_count": 10,
   "id": "4c087634-2ee9-4d24-a176-2e0cb8607348",
   "metadata": {},
   "outputs": [
    {
     "name": "stdout",
     "output_type": "stream",
     "text": [
      "-1\n"
     ]
    }
   ],
   "source": [
    "print(\"robot\".find(\"A\"))"
   ]
  },
  {
   "cell_type": "code",
   "execution_count": 11,
   "id": "684695b4-4778-4454-9893-df8d527827a4",
   "metadata": {},
   "outputs": [
    {
     "ename": "TypeError",
     "evalue": "find() takes at least 1 argument (0 given)",
     "output_type": "error",
     "traceback": [
      "\u001b[0;31m---------------------------------------------------------------------------\u001b[0m",
      "\u001b[0;31mTypeError\u001b[0m                                 Traceback (most recent call last)",
      "Cell \u001b[0;32mIn[11], line 2\u001b[0m\n\u001b[1;32m      1\u001b[0m word \u001b[38;5;241m=\u001b[39m \u001b[38;5;124m'\u001b[39m\u001b[38;5;124mvehicle\u001b[39m\u001b[38;5;124m'\u001b[39m\n\u001b[0;32m----> 2\u001b[0m \u001b[38;5;28mprint\u001b[39m(word\u001b[38;5;241m.\u001b[39mfind())\n",
      "\u001b[0;31mTypeError\u001b[0m: find() takes at least 1 argument (0 given)"
     ]
    }
   ],
   "source": [
    "word = 'vehicle'\n",
    "print(word.find())"
   ]
  },
  {
   "cell_type": "code",
   "execution_count": 12,
   "id": "ba73110a-8578-4734-9f50-c1502d663135",
   "metadata": {},
   "outputs": [
    {
     "data": {
      "text/plain": [
       "range(0, 6)"
      ]
     },
     "execution_count": 12,
     "metadata": {},
     "output_type": "execute_result"
    }
   ],
   "source": [
    "range(6)"
   ]
  },
  {
   "cell_type": "code",
   "execution_count": 13,
   "id": "ea11864e-8e48-4567-a225-f0cd7a19ac47",
   "metadata": {},
   "outputs": [],
   "source": [
    "a=0**0"
   ]
  },
  {
   "cell_type": "code",
   "execution_count": 14,
   "id": "d9df3c1c-643a-47c5-ab5b-5b1a570c10d3",
   "metadata": {},
   "outputs": [
    {
     "data": {
      "text/plain": [
       "1"
      ]
     },
     "execution_count": 14,
     "metadata": {},
     "output_type": "execute_result"
    }
   ],
   "source": [
    "a"
   ]
  },
  {
   "cell_type": "code",
   "execution_count": 15,
   "id": "9702691f-fcb7-4b50-b456-e0d300b2240a",
   "metadata": {},
   "outputs": [
    {
     "ename": "TypeError",
     "evalue": "unsupported operand type(s) for +: 'int' and 'str'",
     "output_type": "error",
     "traceback": [
      "\u001b[0;31m---------------------------------------------------------------------------\u001b[0m",
      "\u001b[0;31mTypeError\u001b[0m                                 Traceback (most recent call last)",
      "Cell \u001b[0;32mIn[15], line 2\u001b[0m\n\u001b[1;32m      1\u001b[0m prices \u001b[38;5;241m=\u001b[39m [\u001b[38;5;241m250\u001b[39m, \u001b[38;5;241m300\u001b[39m, \u001b[38;5;124m\"\u001b[39m\u001b[38;5;124m240\u001b[39m\u001b[38;5;124m\"\u001b[39m, \u001b[38;5;241m400\u001b[39m]\n\u001b[0;32m----> 2\u001b[0m total \u001b[38;5;241m=\u001b[39m \u001b[38;5;28msum\u001b[39m(prices)\n\u001b[1;32m      3\u001b[0m \u001b[38;5;28mprint\u001b[39m(total)\n\u001b[1;32m      4\u001b[0m \u001b[38;5;28mprint\u001b[39m(\u001b[38;5;124m\"\u001b[39m\u001b[38;5;124mHappy shopping\u001b[39m\u001b[38;5;124m\"\u001b[39m)\n",
      "\u001b[0;31mTypeError\u001b[0m: unsupported operand type(s) for +: 'int' and 'str'"
     ]
    }
   ],
   "source": [
    "prices = [250, 300, \"240\", 400]\n",
    "total = sum(prices)\n",
    "print(total)\n",
    "print(\"Happy shopping\")"
   ]
  },
  {
   "cell_type": "code",
   "execution_count": null,
   "id": "beee0d69-4f4f-4080-b400-0fda9e629565",
   "metadata": {},
   "outputs": [],
   "source": []
  }
 ],
 "metadata": {
  "kernelspec": {
   "display_name": "Python 3 (ipykernel)",
   "language": "python",
   "name": "python3"
  },
  "language_info": {
   "codemirror_mode": {
    "name": "ipython",
    "version": 3
   },
   "file_extension": ".py",
   "mimetype": "text/x-python",
   "name": "python",
   "nbconvert_exporter": "python",
   "pygments_lexer": "ipython3",
   "version": "3.11.7"
  }
 },
 "nbformat": 4,
 "nbformat_minor": 5
}
