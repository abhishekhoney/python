{
 "cells": [
  {
   "cell_type": "code",
   "execution_count": 1,
   "id": "81b8d859-b270-448f-a04d-653c0f87a905",
   "metadata": {},
   "outputs": [],
   "source": [
    "color = \"Magenta\""
   ]
  },
  {
   "cell_type": "code",
   "execution_count": 2,
   "id": "12b7b7ee-2214-4295-ac19-d17bf8fe61a8",
   "metadata": {},
   "outputs": [
    {
     "name": "stdout",
     "output_type": "stream",
     "text": [
      "Magenta\n"
     ]
    }
   ],
   "source": [
    "print(color)"
   ]
  },
  {
   "cell_type": "code",
   "execution_count": 3,
   "id": "e955678d-3996-4357-80f4-8061564dd6a8",
   "metadata": {},
   "outputs": [
    {
     "name": "stdout",
     "output_type": "stream",
     "text": [
      "abhishek\n"
     ]
    }
   ],
   "source": [
    "print('abhishek')"
   ]
  },
  {
   "cell_type": "code",
   "execution_count": 4,
   "id": "2d678f40-8193-4de4-93c2-883f3518ff3f",
   "metadata": {},
   "outputs": [
    {
     "name": "stdout",
     "output_type": "stream",
     "text": [
      "verma\n"
     ]
    }
   ],
   "source": [
    "print(\"verma\")"
   ]
  },
  {
   "cell_type": "code",
   "execution_count": 5,
   "id": "103b4889-d7ba-49e0-9ec2-5eaab6ae110c",
   "metadata": {},
   "outputs": [
    {
     "name": "stdout",
     "output_type": "stream",
     "text": [
      "abhishek verma\n"
     ]
    }
   ],
   "source": [
    "print(\"abhishek verma\")"
   ]
  },
  {
   "cell_type": "code",
   "execution_count": 6,
   "id": "4c4f15a4-4057-4b19-9845-f5b9e5662213",
   "metadata": {},
   "outputs": [
    {
     "name": "stdout",
     "output_type": "stream",
     "text": [
      "abhishek verma\n"
     ]
    }
   ],
   "source": [
    "print('abhishek verma')"
   ]
  },
  {
   "cell_type": "code",
   "execution_count": 7,
   "id": "b88ebbdd-7c59-4f0b-b65d-f489074105b3",
   "metadata": {},
   "outputs": [
    {
     "name": "stdout",
     "output_type": "stream",
     "text": [
      "car_type\n"
     ]
    }
   ],
   "source": [
    "car_type = \"sedan\"\n",
    "print('car_type')"
   ]
  },
  {
   "cell_type": "code",
   "execution_count": 8,
   "id": "53e47206-6a0e-4f11-b29c-acb91f4a3c66",
   "metadata": {},
   "outputs": [
    {
     "name": "stdin",
     "output_type": "stream",
     "text": [
      " 28\n"
     ]
    },
    {
     "name": "stdout",
     "output_type": "stream",
     "text": [
      "<class 'int'>\n"
     ]
    }
   ],
   "source": [
    "age = int(input())\n",
    "print(type(age))"
   ]
  },
  {
   "cell_type": "code",
   "execution_count": 9,
   "id": "62666d74-e1ec-4c33-97fc-690035241699",
   "metadata": {},
   "outputs": [
    {
     "name": "stdout",
     "output_type": "stream",
     "text": [
      "9\n"
     ]
    }
   ],
   "source": [
    "a=5\n",
    "b=4\n",
    "print(a+b)"
   ]
  },
  {
   "cell_type": "code",
   "execution_count": 10,
   "id": "5a86b980-8024-4855-9b64-28476e4ea2fe",
   "metadata": {},
   "outputs": [
    {
     "name": "stdout",
     "output_type": "stream",
     "text": [
      "2.5\n"
     ]
    }
   ],
   "source": [
    "variable = 5/2\n",
    "print(variable)"
   ]
  },
  {
   "cell_type": "code",
   "execution_count": 11,
   "id": "60939569-236e-4d63-b66c-e36a388455f8",
   "metadata": {},
   "outputs": [
    {
     "name": "stdout",
     "output_type": "stream",
     "text": [
      "3.0\n"
     ]
    }
   ],
   "source": [
    "x = 9\n",
    "y = 3\n",
    "print(x / y)"
   ]
  },
  {
   "cell_type": "code",
   "execution_count": null,
   "id": "2bc66797-62e0-491f-9d6b-f16dd005be9e",
   "metadata": {},
   "outputs": [],
   "source": [
    "x=(5//2)*3"
   ]
  },
  {
   "cell_type": "code",
   "execution_count": null,
   "id": "359340d9-e71e-4b3f-8c2a-1e18b41e7423",
   "metadata": {},
   "outputs": [],
   "source": [
    "x"
   ]
  },
  {
   "cell_type": "code",
   "execution_count": null,
   "id": "8051026c-10af-48b5-b312-696c10cbdc45",
   "metadata": {},
   "outputs": [],
   "source": [
    "type(x)"
   ]
  },
  {
   "cell_type": "code",
   "execution_count": null,
   "id": "d05672da-5d3c-4014-89fa-139d90d732da",
   "metadata": {},
   "outputs": [],
   "source": [
    " x=int(5/2)"
   ]
  },
  {
   "cell_type": "code",
   "execution_count": null,
   "id": "b08a557e-5b5e-43ce-b4be-abc76348d88c",
   "metadata": {},
   "outputs": [],
   "source": [
    "x"
   ]
  },
  {
   "cell_type": "code",
   "execution_count": null,
   "id": "6ba21ef4-f969-4e14-ba3d-3494bb8b4814",
   "metadata": {},
   "outputs": [],
   "source": [
    "bool(0)"
   ]
  },
  {
   "cell_type": "code",
   "execution_count": null,
   "id": "5dfb9039-9f4a-4261-a84c-0f97715ca3c3",
   "metadata": {},
   "outputs": [],
   "source": [
    "int(5//2)"
   ]
  },
  {
   "cell_type": "code",
   "execution_count": null,
   "id": "0d428be0-e7fa-4ab0-a384-73645d0cb4cb",
   "metadata": {},
   "outputs": [],
   "source": [
    "var=[3,443,12,896,98]"
   ]
  },
  {
   "cell_type": "code",
   "execution_count": null,
   "id": "593dd105-cb1c-4d50-8a6a-cb3d7b7b5efd",
   "metadata": {},
   "outputs": [],
   "source": [
    "var.append(99)"
   ]
  },
  {
   "cell_type": "code",
   "execution_count": null,
   "id": "d6208a39-b227-46fd-9467-1d1af9e58b9d",
   "metadata": {},
   "outputs": [],
   "source": [
    "var"
   ]
  },
  {
   "cell_type": "code",
   "execution_count": null,
   "id": "433c73d5-07f9-43d3-990b-9f79a725bc57",
   "metadata": {},
   "outputs": [],
   "source": [
    "var=[3,443,12,896,98]\n",
    "var.append(55)\n",
    "var"
   ]
  },
  {
   "cell_type": "code",
   "execution_count": null,
   "id": "9648903e-3976-4724-abaf-29dcb2495e5c",
   "metadata": {},
   "outputs": [],
   "source": [
    "print(var)"
   ]
  },
  {
   "cell_type": "code",
   "execution_count": null,
   "id": "27026b44-9db9-460c-ab93-21a85dfc3862",
   "metadata": {},
   "outputs": [],
   "source": [
    "var.append(100)\n",
    "var"
   ]
  },
  {
   "cell_type": "code",
   "execution_count": 1,
   "id": "e3bf192d-8185-454f-9d2e-3eece7a373d4",
   "metadata": {},
   "outputs": [],
   "source": [
    "x=(5//2)*3"
   ]
  },
  {
   "cell_type": "code",
   "execution_count": 2,
   "id": "601aab21-68e0-480a-9a5e-1ecf8a3d7084",
   "metadata": {},
   "outputs": [
    {
     "data": {
      "text/plain": [
       "6"
      ]
     },
     "execution_count": 2,
     "metadata": {},
     "output_type": "execute_result"
    }
   ],
   "source": [
    "x"
   ]
  },
  {
   "cell_type": "code",
   "execution_count": 3,
   "id": "e40aeea8-d752-475a-99ff-826a3868d7a5",
   "metadata": {},
   "outputs": [
    {
     "data": {
      "text/plain": [
       "int"
      ]
     },
     "execution_count": 3,
     "metadata": {},
     "output_type": "execute_result"
    }
   ],
   "source": [
    "type(x)"
   ]
  },
  {
   "cell_type": "code",
   "execution_count": 4,
   "id": "167faa73-7e45-4dd7-aff4-61b069181a85",
   "metadata": {},
   "outputs": [],
   "source": [
    " x=int(5/2)"
   ]
  },
  {
   "cell_type": "code",
   "execution_count": 5,
   "id": "9e2e9abf-93a7-4dc2-ae8e-9376739393c5",
   "metadata": {},
   "outputs": [
    {
     "data": {
      "text/plain": [
       "2"
      ]
     },
     "execution_count": 5,
     "metadata": {},
     "output_type": "execute_result"
    }
   ],
   "source": [
    "x"
   ]
  },
  {
   "cell_type": "code",
   "execution_count": 6,
   "id": "92120bde-67d0-40f1-9d09-a5649273cf08",
   "metadata": {},
   "outputs": [
    {
     "data": {
      "text/plain": [
       "False"
      ]
     },
     "execution_count": 6,
     "metadata": {},
     "output_type": "execute_result"
    }
   ],
   "source": [
    "bool(0)"
   ]
  },
  {
   "cell_type": "code",
   "execution_count": 7,
   "id": "52cf6836-0c55-4d13-9875-5fc187db484a",
   "metadata": {},
   "outputs": [
    {
     "data": {
      "text/plain": [
       "True"
      ]
     },
     "execution_count": 7,
     "metadata": {},
     "output_type": "execute_result"
    }
   ],
   "source": [
    "bool(1)"
   ]
  },
  {
   "cell_type": "code",
   "execution_count": 8,
   "id": "edcdd677-7b4a-4940-b488-4e61d859a055",
   "metadata": {},
   "outputs": [
    {
     "data": {
      "text/plain": [
       "True"
      ]
     },
     "execution_count": 8,
     "metadata": {},
     "output_type": "execute_result"
    }
   ],
   "source": [
    "bool(-1)"
   ]
  },
  {
   "cell_type": "code",
   "execution_count": 9,
   "id": "81c48f70-68db-4275-914f-5594774d669d",
   "metadata": {},
   "outputs": [
    {
     "data": {
      "text/plain": [
       "2"
      ]
     },
     "execution_count": 9,
     "metadata": {},
     "output_type": "execute_result"
    }
   ],
   "source": [
    "int(5//2)"
   ]
  },
  {
   "cell_type": "code",
   "execution_count": null,
   "id": "ff8dca83-8f9e-4ef2-bb37-16fc86e94fc1",
   "metadata": {},
   "outputs": [],
   "source": []
  },
  {
   "cell_type": "code",
   "execution_count": null,
   "id": "dc25b0ef-5211-43f3-bb2a-b23a221bab4e",
   "metadata": {},
   "outputs": [],
   "source": []
  }
 ],
 "metadata": {
  "kernelspec": {
   "display_name": "Python 3 (ipykernel)",
   "language": "python",
   "name": "python3"
  },
  "language_info": {
   "codemirror_mode": {
    "name": "ipython",
    "version": 3
   },
   "file_extension": ".py",
   "mimetype": "text/x-python",
   "name": "python",
   "nbconvert_exporter": "python",
   "pygments_lexer": "ipython3",
   "version": "3.11.7"
  }
 },
 "nbformat": 4,
 "nbformat_minor": 5
}
