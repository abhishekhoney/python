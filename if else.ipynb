{
 "cells": [
  {
   "cell_type": "code",
   "execution_count": 1,
   "id": "41c9ba05-f710-449f-a32b-6fbdec5b04f8",
   "metadata": {},
   "outputs": [
    {
     "name": "stdout",
     "output_type": "stream",
     "text": [
      "Discount\n"
     ]
    }
   ],
   "source": [
    "age = 32\n",
    "is_student = True\n",
    "if age < 18 or is_student:\n",
    "  print(\"Discount\")\n",
    "else:\n",
    "  print(\"Regular price\")"
   ]
  },
  {
   "cell_type": "code",
   "execution_count": 2,
   "id": "e17b363a-2f3d-4797-8bd8-e0bbedbf3592",
   "metadata": {},
   "outputs": [
    {
     "name": "stdout",
     "output_type": "stream",
     "text": [
      "Regular price\n"
     ]
    }
   ],
   "source": [
    "age = 32\n",
    "is_student = True\n",
    "if age < 18 and is_student:\n",
    "  print(\"Discount\")\n",
    "else:\n",
    "  print(\"Regular price\")"
   ]
  },
  {
   "cell_type": "code",
   "execution_count": 3,
   "id": "ba9499f8-6fec-4064-b884-505b887d41e1",
   "metadata": {},
   "outputs": [
    {
     "name": "stdout",
     "output_type": "stream",
     "text": [
      "No discount\n"
     ]
    }
   ],
   "source": [
    "if age < 18:\n",
    "  print(\"Junior discount\")\n",
    "else:\n",
    "  print(\"No discount\")"
   ]
  },
  {
   "cell_type": "code",
   "execution_count": 4,
   "id": "e00ce9f3-4490-46f1-8adf-714de15b6b87",
   "metadata": {},
   "outputs": [
    {
     "name": "stdout",
     "output_type": "stream",
     "text": [
      "Regular price\n",
      "Proceed to payment\n"
     ]
    }
   ],
   "source": [
    "age = 29\n",
    "if age < 18:\n",
    "  if is_student:\n",
    "    print(\"20% discount\")\n",
    "else:\n",
    "  print(\"Regular price\")\n",
    "print(\"Proceed to payment\")"
   ]
  },
  {
   "cell_type": "code",
   "execution_count": 1,
   "id": "5564688d-f665-45ce-9360-edd94ef39240",
   "metadata": {},
   "outputs": [
    {
     "name": "stdout",
     "output_type": "stream",
     "text": [
      "great job\n"
     ]
    }
   ],
   "source": [
    "mystring=\"i love my wonderful happy india\"\n",
    "if \" \" not in mystring or mystring.find(\"pp\")<=115:\n",
    "  print(\"great job\")"
   ]
  },
  {
   "cell_type": "code",
   "execution_count": 2,
   "id": "8c504efe-cd62-4e47-8f80-293aed49e89b",
   "metadata": {},
   "outputs": [
    {
     "name": "stdout",
     "output_type": "stream",
     "text": [
      "amazing\n"
     ]
    }
   ],
   "source": [
    "mynum=2500\n",
    "if(100-5**2*2**2):\n",
    "  print(\"awesome\")\n",
    "elif mynum/(100-5**2/5*2+10)<29:\n",
    " print(\"amazing\")"
   ]
  },
  {
   "cell_type": "code",
   "execution_count": 3,
   "id": "248e18ac-3e3e-42b9-b886-5149c96e6af4",
   "metadata": {},
   "outputs": [
    {
     "data": {
      "text/plain": [
       "25.0"
      ]
     },
     "execution_count": 3,
     "metadata": {},
     "output_type": "execute_result"
    }
   ],
   "source": [
    "mynum/(100-5**2/5*2+10)"
   ]
  },
  {
   "cell_type": "code",
   "execution_count": null,
   "id": "de43beb2-1ff5-47fa-a47b-71b68072fecc",
   "metadata": {},
   "outputs": [],
   "source": []
  }
 ],
 "metadata": {
  "kernelspec": {
   "display_name": "Python 3 (ipykernel)",
   "language": "python",
   "name": "python3"
  },
  "language_info": {
   "codemirror_mode": {
    "name": "ipython",
    "version": 3
   },
   "file_extension": ".py",
   "mimetype": "text/x-python",
   "name": "python",
   "nbconvert_exporter": "python",
   "pygments_lexer": "ipython3",
   "version": "3.11.7"
  }
 },
 "nbformat": 4,
 "nbformat_minor": 5
}
