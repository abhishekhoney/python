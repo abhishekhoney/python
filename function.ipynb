{
 "cells": [
  {
   "cell_type": "code",
   "execution_count": 1,
   "id": "1c9b810b-72fb-46cb-b9b9-64d6b07337d6",
   "metadata": {},
   "outputs": [],
   "source": [
    "def rect(d1, d2):\n",
    "  area = 0\n",
    "  return area\n",
    "  area = d1 * d2"
   ]
  },
  {
   "cell_type": "code",
   "execution_count": 2,
   "id": "67c762ca-631e-4770-aa73-b886e6b6b5e3",
   "metadata": {},
   "outputs": [
    {
     "name": "stdout",
     "output_type": "stream",
     "text": [
      "2020 Audi\n",
      "Odometer: 15000 miles\n",
      "Odometer: 20000 miles\n"
     ]
    }
   ],
   "source": [
    "class Car:\n",
    "  def __init__(self, model, year, odometer):\n",
    "    self.model = model\n",
    "    self.year = year\n",
    "    self.odometer = odometer\n",
    "\n",
    "  def describe_car(self):\n",
    "    print(self.year, self.model)\n",
    "\n",
    "  def read_odometer(self):\n",
    "    print(\"Odometer:\", self.odometer, \"miles\")\n",
    "\n",
    "my_car = Car('Audi', 2020, 15000)\n",
    "\n",
    "my_car.describe_car()\n",
    "my_car.read_odometer()\n",
    "\n",
    "#changing a value of the attribute\n",
    "my_car.odometer = 20000\n",
    "\n",
    "my_car.read_odometer()"
   ]
  },
  {
   "cell_type": "code",
   "execution_count": 3,
   "id": "232382a1-993c-47d0-8f99-8810ae2c7922",
   "metadata": {},
   "outputs": [
    {
     "name": "stdout",
     "output_type": "stream",
     "text": [
      "Harry Potter and the Sorcerer's Stone by J.K. Rowling\n",
      "There are 7 books in the Harry Potter series\n"
     ]
    }
   ],
   "source": [
    "class Book:\n",
    "  def __init__(self, title, author):\n",
    "    self.title = title\n",
    "    self.author = author\n",
    "\n",
    "  #regular method\n",
    "  def describe_book(self):\n",
    "    print(self.title, 'by', self.author)\n",
    "\n",
    "  #class method\n",
    "  @classmethod\n",
    "  def books_in_series(cls, series_name, number_of_books):\n",
    "    print('There are', number_of_books, 'books in the', series_name, 'series')\n",
    "\n",
    "# Creating an instance of Book\n",
    "my_book = Book(\"Harry Potter and the Sorcerer's Stone\", \"J.K. Rowling\")\n",
    "\n",
    "# Using the instance method to describe the book\n",
    "my_book.describe_book()\n",
    "\n",
    "# Using the class method to display information about the series\n",
    "Book.books_in_series(\"Harry Potter\", 7)"
   ]
  },
  {
   "cell_type": "code",
   "execution_count": 4,
   "id": "94b3cb5b-c74f-4e4f-8db6-79b8fabb5360",
   "metadata": {},
   "outputs": [
    {
     "name": "stdout",
     "output_type": "stream",
     "text": [
      "HELLO\n"
     ]
    }
   ],
   "source": [
    "def shout(text):\n",
    "    return text.upper()\n",
    "yell = shout\n",
    "print(yell(\"Hello\"))"
   ]
  },
  {
   "cell_type": "code",
   "execution_count": 5,
   "id": "bc8a93bf-a058-4342-a814-f571e7075a1d",
   "metadata": {},
   "outputs": [],
   "source": [
    "def welcome(name):\n",
    "  return \"Welcome, \" + name\n",
    "greet = welcome"
   ]
  },
  {
   "cell_type": "code",
   "execution_count": 6,
   "id": "0062ff7c-3a2c-49b0-b5e0-2e4121bbe4d7",
   "metadata": {},
   "outputs": [
    {
     "name": "stdout",
     "output_type": "stream",
     "text": [
      "Welcome, Alice\n",
      "Goodbye, Bob\n"
     ]
    }
   ],
   "source": [
    "def welcome(name):\n",
    "  return \"Welcome, \" + name\n",
    "\n",
    "def bye(name):\n",
    "  return \"Goodbye, \" + name\n",
    "\n",
    "def process_user(name, func):\n",
    "  return func(name)\n",
    "\n",
    "print(process_user(\"Alice\", welcome))\n",
    "print(process_user(\"Bob\", bye))"
   ]
  },
  {
   "cell_type": "code",
   "execution_count": 7,
   "id": "2b150fb7-46d0-4507-b782-af9509d95d1f",
   "metadata": {},
   "outputs": [
    {
     "name": "stdout",
     "output_type": "stream",
     "text": [
      "Book title: The Great Gatsby\n"
     ]
    }
   ],
   "source": [
    "def book_title(title):\n",
    "  return \"Book title: \" + title\n",
    "def info(title, func):\n",
    "  return func(title)\n",
    "\n",
    "print(info(\"The Great Gatsby\", book_title))"
   ]
  },
  {
   "cell_type": "code",
   "execution_count": 8,
   "id": "8f8efb8e-310d-4f96-a315-0caaa1405d91",
   "metadata": {},
   "outputs": [],
   "source": [
    "def welcome(user):\n",
    "  print(\"Welcome,\", user)"
   ]
  },
  {
   "cell_type": "code",
   "execution_count": 9,
   "id": "3b7951b8-bcf9-4018-b8c9-178558f7d1ae",
   "metadata": {},
   "outputs": [
    {
     "name": "stdout",
     "output_type": "stream",
     "text": [
      "6\n"
     ]
    }
   ],
   "source": [
    "def total(price, count):\n",
    "  return price*count\n",
    "\n",
    "print(total(2,3))"
   ]
  },
  {
   "cell_type": "code",
   "execution_count": 10,
   "id": "1aab964d-66fb-4a7d-b2f9-d8968a93d0bb",
   "metadata": {},
   "outputs": [
    {
     "name": "stdout",
     "output_type": "stream",
     "text": [
      "Welcome, Bob\n"
     ]
    }
   ],
   "source": [
    "greet = lambda name: \"Welcome, \" + name\n",
    "\n",
    "print(greet(\"Bob\"))"
   ]
  },
  {
   "cell_type": "code",
   "execution_count": 11,
   "id": "6cda95d2-29b5-4ff3-b5f6-a27c2f83985f",
   "metadata": {},
   "outputs": [
    {
     "name": "stdout",
     "output_type": "stream",
     "text": [
      "20\n"
     ]
    }
   ],
   "source": [
    "x = lambda price, count :  price * count\n",
    "print(x(2,10))"
   ]
  },
  {
   "cell_type": "code",
   "execution_count": 12,
   "id": "555f9175-7e68-47ca-aa6b-72665a238b8b",
   "metadata": {},
   "outputs": [],
   "source": [
    "res = (lambda x, y: x*y) (2,3)"
   ]
  },
  {
   "cell_type": "code",
   "execution_count": 13,
   "id": "8fffd172-04be-4ad0-a306-2067eca1ad54",
   "metadata": {},
   "outputs": [
    {
     "data": {
      "text/plain": [
       "6"
      ]
     },
     "execution_count": 13,
     "metadata": {},
     "output_type": "execute_result"
    }
   ],
   "source": [
    "res"
   ]
  },
  {
   "cell_type": "code",
   "execution_count": 14,
   "id": "9d3613c7-9845-4486-b84c-83b341cf70fd",
   "metadata": {},
   "outputs": [
    {
     "name": "stdout",
     "output_type": "stream",
     "text": [
      "10\n",
      "15\n"
     ]
    }
   ],
   "source": [
    "def mult(n):\n",
    "  return lambda a : a * n\n",
    "\n",
    "doubler = mult(2)\n",
    "tripler = mult(3)\n",
    "\n",
    "print(doubler(5))\n",
    "print(tripler(5))"
   ]
  },
  {
   "cell_type": "code",
   "execution_count": 15,
   "id": "aa64b470-f6d1-4720-b7a1-0bbebea5c9ee",
   "metadata": {},
   "outputs": [
    {
     "name": "stdout",
     "output_type": "stream",
     "text": [
      "[True, False, True, False, True]\n"
     ]
    }
   ],
   "source": [
    "exam_scores = [85, 62, 95, 40, 78]\n",
    "def is_passing(score):\n",
    "  return score >= 70\n",
    "\n",
    "status = list(map(is_passing,exam_scores))\n",
    "\n",
    "print(status)"
   ]
  },
  {
   "cell_type": "code",
   "execution_count": 16,
   "id": "2b8ba08c-fa76-4bef-bcef-adfe3dc00f16",
   "metadata": {},
   "outputs": [
    {
     "data": {
      "text/plain": [
       "list"
      ]
     },
     "execution_count": 16,
     "metadata": {},
     "output_type": "execute_result"
    }
   ],
   "source": [
    "type(status)"
   ]
  },
  {
   "cell_type": "code",
   "execution_count": 17,
   "id": "fccad43e-3702-497b-b82e-1b2bbadd3003",
   "metadata": {},
   "outputs": [],
   "source": [
    "exam_scores = [85, 62, 95]\n",
    "def is_passing(score):\n",
    "  return score >= 70\n",
    "\n",
    "status = list(map(is_passing, exam_scores))"
   ]
  },
  {
   "cell_type": "code",
   "execution_count": 18,
   "id": "088065c4-57d7-45a5-a6c4-8c3c66e047bd",
   "metadata": {},
   "outputs": [],
   "source": [
    "names = [\"John\", \"Emma\", \"Jake\", \"Rachel\", \"James\"]\n",
    "filtered = list(filter(lambda name: name[0] == 'J', names))"
   ]
  },
  {
   "cell_type": "code",
   "execution_count": 19,
   "id": "44bb788e-128e-4cf4-b651-26546f7d9dbb",
   "metadata": {},
   "outputs": [
    {
     "data": {
      "text/plain": [
       "['John', 'Jake', 'James']"
      ]
     },
     "execution_count": 19,
     "metadata": {},
     "output_type": "execute_result"
    }
   ],
   "source": [
    "filtered"
   ]
  },
  {
   "cell_type": "code",
   "execution_count": 20,
   "id": "e1c7f5c9-976d-442c-8fca-ff258eecd4af",
   "metadata": {},
   "outputs": [
    {
     "ename": "TypeError",
     "evalue": "total() takes 3 positional arguments but 4 were given",
     "output_type": "error",
     "traceback": [
      "\u001b[0;31m---------------------------------------------------------------------------\u001b[0m",
      "\u001b[0;31mTypeError\u001b[0m                                 Traceback (most recent call last)",
      "Cell \u001b[0;32mIn[20], line 4\u001b[0m\n\u001b[1;32m      1\u001b[0m \u001b[38;5;28;01mdef\u001b[39;00m \u001b[38;5;21mtotal\u001b[39m(x, y, z):\n\u001b[1;32m      2\u001b[0m   \u001b[38;5;28;01mreturn\u001b[39;00m x \u001b[38;5;241m+\u001b[39m y \u001b[38;5;241m+\u001b[39m z\n\u001b[0;32m----> 4\u001b[0m \u001b[38;5;28mprint\u001b[39m(total(\u001b[38;5;241m2\u001b[39m, \u001b[38;5;241m1\u001b[39m, \u001b[38;5;241m3\u001b[39m, \u001b[38;5;241m3\u001b[39m))\n",
      "\u001b[0;31mTypeError\u001b[0m: total() takes 3 positional arguments but 4 were given"
     ]
    }
   ],
   "source": [
    "def total(x, y, z):\n",
    "  return x + y + z\n",
    "\n",
    "print(total(2, 1, 3, 3))"
   ]
  },
  {
   "cell_type": "code",
   "execution_count": 21,
   "id": "f8034c2b-c725-41bb-aa07-d4461c422c29",
   "metadata": {},
   "outputs": [
    {
     "name": "stdout",
     "output_type": "stream",
     "text": [
      "15\n"
     ]
    }
   ],
   "source": [
    "def total(numbers):\n",
    "  result = 0\n",
    "  #iterating over the list\n",
    "  for i in numbers:\n",
    "    result+=i\n",
    "  return result\n",
    "\n",
    "nums = [1,2,3,4,5]\n",
    "\n",
    "print(total(nums))"
   ]
  },
  {
   "cell_type": "code",
   "execution_count": 22,
   "id": "9ef355ca-d586-4398-bb63-dd012933cc3e",
   "metadata": {},
   "outputs": [
    {
     "name": "stdout",
     "output_type": "stream",
     "text": [
      "15\n",
      "28\n",
      "6\n"
     ]
    }
   ],
   "source": [
    "def total(*args):\n",
    "  result = 0\n",
    "  for arg in args:\n",
    "    result += arg\n",
    "  return result\n",
    "\n",
    "print(total(1, 2, 3, 4, 5))\n",
    "print(total(1, 2, 3, 4, 5, 6, 7))\n",
    "print(total(1, 2, 3))"
   ]
  },
  {
   "cell_type": "code",
   "execution_count": 23,
   "id": "b003de41-170b-49ed-b36a-425c84402155",
   "metadata": {},
   "outputs": [
    {
     "name": "stdout",
     "output_type": "stream",
     "text": [
      "paper\n",
      "pen\n",
      "pencil\n"
     ]
    }
   ],
   "source": [
    "def display(*words):\n",
    "  for item in words:\n",
    "    print(item)\n",
    "display(\"paper\", \"pen\", \"pencil\")"
   ]
  },
  {
   "cell_type": "code",
   "execution_count": 24,
   "id": "29187d25-cdd2-4bc1-bec8-f868fabfbf5e",
   "metadata": {},
   "outputs": [
    {
     "data": {
      "text/plain": [
       "'Your meal is being prepared!'"
      ]
     },
     "execution_count": 24,
     "metadata": {},
     "output_type": "execute_result"
    }
   ],
   "source": [
    "def order():\n",
    "  def prepare():\n",
    "    return \"Your meal is being prepared!\"\n",
    "  status = prepare()\n",
    "  return status\n",
    "\n",
    "order()"
   ]
  },
  {
   "cell_type": "code",
   "execution_count": 25,
   "id": "2a742436-b0f3-4c29-9cc4-a70fe2e13f32",
   "metadata": {},
   "outputs": [
    {
     "ename": "IndentationError",
     "evalue": "unexpected indent (4150775956.py, line 2)",
     "output_type": "error",
     "traceback": [
      "\u001b[0;36m  Cell \u001b[0;32mIn[25], line 2\u001b[0;36m\u001b[0m\n\u001b[0;31m    def add(word):\u001b[0m\n\u001b[0m    ^\u001b[0m\n\u001b[0;31mIndentationError\u001b[0m\u001b[0;31m:\u001b[0m unexpected indent\n"
     ]
    }
   ],
   "source": [
    "@hashtag_decorator\n",
    "  def add(word):\n",
    "   print(word)"
   ]
  },
  {
   "cell_type": "code",
   "execution_count": 26,
   "id": "70e55e53-c3b8-4e0e-a9de-ec24faac3e46",
   "metadata": {},
   "outputs": [
    {
     "name": "stdout",
     "output_type": "stream",
     "text": [
      "HELLO\n"
     ]
    }
   ],
   "source": [
    "def shout(text):\n",
    "  return text.upper()\n",
    "yell = shout\n",
    "print(yell(\"Hello\"))"
   ]
  },
  {
   "cell_type": "code",
   "execution_count": 27,
   "id": "97663453-03f7-455c-9571-4e01edb5c3e1",
   "metadata": {},
   "outputs": [],
   "source": [
    "def order(dish):\n",
    "  return \"Your order: \" + dish\n",
    "def process_order(dish, func):\n",
    "  print(func(dish))"
   ]
  },
  {
   "cell_type": "code",
   "execution_count": 28,
   "id": "ec5c1bc1-71a2-4dfc-9103-80d9383b5408",
   "metadata": {},
   "outputs": [
    {
     "name": "stdout",
     "output_type": "stream",
     "text": [
      "Your order: Spaghetti\n"
     ]
    }
   ],
   "source": [
    "process_order(\"Spaghetti\",order )"
   ]
  },
  {
   "cell_type": "code",
   "execution_count": 29,
   "id": "72837e75-6365-47cf-80bb-45e17d496b6c",
   "metadata": {},
   "outputs": [],
   "source": [
    "res = (lambda x, y: x*y) (4,2)"
   ]
  },
  {
   "cell_type": "code",
   "execution_count": 30,
   "id": "233df187-9a21-4721-8913-3607e6f64d8a",
   "metadata": {},
   "outputs": [],
   "source": [
    "fruits = [\"apple\", \"banana\", \"cherry\", \"elderberry\"]\n",
    "fruits_filt = list(filter(lambda x: 'a' in x, fruits))"
   ]
  },
  {
   "cell_type": "code",
   "execution_count": 31,
   "id": "204151ce-ab8b-41f8-928c-c07b0ec5cd5d",
   "metadata": {},
   "outputs": [
    {
     "data": {
      "text/plain": [
       "['apple', 'banana']"
      ]
     },
     "execution_count": 31,
     "metadata": {},
     "output_type": "execute_result"
    }
   ],
   "source": [
    "fruits_filt"
   ]
  },
  {
   "cell_type": "code",
   "execution_count": null,
   "id": "bda95df8-e147-4b5e-9c06-8fa8521ff967",
   "metadata": {},
   "outputs": [],
   "source": []
  }
 ],
 "metadata": {
  "kernelspec": {
   "display_name": "Python 3 (ipykernel)",
   "language": "python",
   "name": "python3"
  },
  "language_info": {
   "codemirror_mode": {
    "name": "ipython",
    "version": 3
   },
   "file_extension": ".py",
   "mimetype": "text/x-python",
   "name": "python",
   "nbconvert_exporter": "python",
   "pygments_lexer": "ipython3",
   "version": "3.11.7"
  }
 },
 "nbformat": 4,
 "nbformat_minor": 5
}
