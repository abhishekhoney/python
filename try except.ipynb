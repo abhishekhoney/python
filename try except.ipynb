{
 "cells": [
  {
   "cell_type": "code",
   "execution_count": 1,
   "id": "15530bea-0a6e-417b-9468-82c1f39fe1c0",
   "metadata": {},
   "outputs": [
    {
     "ename": "TypeError",
     "evalue": "unsupported operand type(s) for +: 'int' and 'str'",
     "output_type": "error",
     "traceback": [
      "\u001b[0;31m---------------------------------------------------------------------------\u001b[0m",
      "\u001b[0;31mTypeError\u001b[0m                                 Traceback (most recent call last)",
      "Cell \u001b[0;32mIn[1], line 2\u001b[0m\n\u001b[1;32m      1\u001b[0m prices \u001b[38;5;241m=\u001b[39m [\u001b[38;5;241m250\u001b[39m, \u001b[38;5;241m300\u001b[39m, \u001b[38;5;124m\"\u001b[39m\u001b[38;5;124m240\u001b[39m\u001b[38;5;124m\"\u001b[39m, \u001b[38;5;241m400\u001b[39m]\n\u001b[0;32m----> 2\u001b[0m total \u001b[38;5;241m=\u001b[39m \u001b[38;5;28msum\u001b[39m(prices)\n\u001b[1;32m      3\u001b[0m \u001b[38;5;28mprint\u001b[39m(total)\n\u001b[1;32m      4\u001b[0m \u001b[38;5;28mprint\u001b[39m(\u001b[38;5;124m\"\u001b[39m\u001b[38;5;124mHappy shopping\u001b[39m\u001b[38;5;124m\"\u001b[39m)\n",
      "\u001b[0;31mTypeError\u001b[0m: unsupported operand type(s) for +: 'int' and 'str'"
     ]
    }
   ],
   "source": [
    "prices = [250, 300, \"240\", 400]\n",
    "total = sum(prices)\n",
    "print(total)\n",
    "print(\"Happy shopping\")"
   ]
  },
  {
   "cell_type": "code",
   "execution_count": 2,
   "id": "be12e76c-50a1-45e2-bb51-57acb2285340",
   "metadata": {},
   "outputs": [
    {
     "name": "stdout",
     "output_type": "stream",
     "text": [
      "Invalid data type\n",
      "Happy Shopping\n"
     ]
    }
   ],
   "source": [
    "prices = [250, 300, \"240\", 400]\n",
    "try:\n",
    "  #block that may cause an exception\n",
    "  total = sum(prices)\n",
    "  print(total)\n",
    "\n",
    "except TypeError:\n",
    "  # to perform if there is an exception\n",
    "  print(\"Invalid data type\")\n",
    "\n",
    "print(\"Happy Shopping\")"
   ]
  },
  {
   "cell_type": "code",
   "execution_count": 3,
   "id": "54e3ba1c-e8f5-41bb-8e1d-60e66db9fd6c",
   "metadata": {},
   "outputs": [
    {
     "name": "stdout",
     "output_type": "stream",
     "text": [
      "Green\n"
     ]
    }
   ],
   "source": [
    "color = \"Green\"\n",
    "try:\n",
    "  print(color)\n",
    "except NameError:\n",
    "  print(\"Check the variable name\")"
   ]
  },
  {
   "cell_type": "code",
   "execution_count": 4,
   "id": "62b7ac34-4a5e-4e66-97f9-0d66681bf014",
   "metadata": {},
   "outputs": [
    {
     "name": "stdout",
     "output_type": "stream",
     "text": [
      "Check the variable name\n"
     ]
    }
   ],
   "source": [
    "color = \"Green\"\n",
    "try:\n",
    "  print(size)\n",
    "except NameError:\n",
    "  print(\"Check the variable name\")"
   ]
  },
  {
   "cell_type": "code",
   "execution_count": 5,
   "id": "f84e3b78-6c9e-4257-9b7b-0a315535895c",
   "metadata": {},
   "outputs": [
    {
     "name": "stdout",
     "output_type": "stream",
     "text": [
      "Not iterable\n"
     ]
    }
   ],
   "source": [
    "try:\n",
    "  print(len(5))\n",
    "except NameError:\n",
    "  print(\"Variable is not defined\")\n",
    "except TypeError:\n",
    "  print(\"Not iterable\")"
   ]
  },
  {
   "cell_type": "code",
   "execution_count": 6,
   "id": "c551943b-dede-43cb-b4e4-97db72814a40",
   "metadata": {},
   "outputs": [
    {
     "name": "stdout",
     "output_type": "stream",
     "text": [
      "Type mismatch error\n"
     ]
    }
   ],
   "source": [
    "try:\n",
    "  print(3 + \"3\")\n",
    "except ValueError:\n",
    "  print(\"Cannot add different types\")\n",
    "except TypeError:\n",
    "  print(\"Type mismatch error\")"
   ]
  },
  {
   "cell_type": "code",
   "execution_count": 7,
   "id": "0d51cab5-380d-493e-8a6a-997da5d1694a",
   "metadata": {},
   "outputs": [
    {
     "name": "stdout",
     "output_type": "stream",
     "text": [
      "Error\n",
      "Save\n"
     ]
    }
   ],
   "source": [
    "try:\n",
    "  print(len(3745))\n",
    "except:\n",
    "  print(\"Error\")\n",
    "finally:\n",
    "  print(\"Save\")"
   ]
  },
  {
   "cell_type": "code",
   "execution_count": 8,
   "id": "1b4290b7-290c-449e-a048-92e6aaa73574",
   "metadata": {},
   "outputs": [
    {
     "name": "stdout",
     "output_type": "stream",
     "text": [
      "Count of products: 3\n"
     ]
    }
   ],
   "source": [
    "products = ['ball', 'toy', 'paper']\n",
    "try:\n",
    "  count = len(products)\n",
    "except:\n",
    " print(\"Error\")\n",
    "else:\n",
    "  print(\"Count of products:\", count)"
   ]
  },
  {
   "cell_type": "code",
   "execution_count": 9,
   "id": "04d47bd1-341e-4a53-93b5-bf091e777c0a",
   "metadata": {},
   "outputs": [
    {
     "ename": "ValueError",
     "evalue": "",
     "output_type": "error",
     "traceback": [
      "\u001b[0;31m---------------------------------------------------------------------------\u001b[0m",
      "\u001b[0;31mValueError\u001b[0m                                Traceback (most recent call last)",
      "Cell \u001b[0;32mIn[9], line 3\u001b[0m\n\u001b[1;32m      1\u001b[0m price \u001b[38;5;241m=\u001b[39m \u001b[38;5;241m995\u001b[39m\n\u001b[1;32m      2\u001b[0m \u001b[38;5;28;01mif\u001b[39;00m price \u001b[38;5;241m>\u001b[39m \u001b[38;5;241m500\u001b[39m:\n\u001b[0;32m----> 3\u001b[0m   \u001b[38;5;28;01mraise\u001b[39;00m \u001b[38;5;167;01mValueError\u001b[39;00m\n",
      "\u001b[0;31mValueError\u001b[0m: "
     ]
    }
   ],
   "source": [
    "price = 995\n",
    "if price > 500:\n",
    "  raise ValueError"
   ]
  },
  {
   "cell_type": "code",
   "execution_count": 10,
   "id": "e18db5ab-7800-4f94-b62e-b5440c3d9bed",
   "metadata": {},
   "outputs": [
    {
     "ename": "ValueError",
     "evalue": "Invalid range",
     "output_type": "error",
     "traceback": [
      "\u001b[0;31m---------------------------------------------------------------------------\u001b[0m",
      "\u001b[0;31mValueError\u001b[0m                                Traceback (most recent call last)",
      "Cell \u001b[0;32mIn[10], line 3\u001b[0m\n\u001b[1;32m      1\u001b[0m temp \u001b[38;5;241m=\u001b[39m \u001b[38;5;241m-\u001b[39m\u001b[38;5;241m15\u001b[39m\n\u001b[1;32m      2\u001b[0m \u001b[38;5;28;01mif\u001b[39;00m temp \u001b[38;5;241m>\u001b[39m \u001b[38;5;241m50\u001b[39m \u001b[38;5;129;01mor\u001b[39;00m temp \u001b[38;5;241m<\u001b[39m \u001b[38;5;241m-\u001b[39m\u001b[38;5;241m10\u001b[39m:\n\u001b[0;32m----> 3\u001b[0m   \u001b[38;5;28;01mraise\u001b[39;00m \u001b[38;5;167;01mValueError\u001b[39;00m(\u001b[38;5;124m\"\u001b[39m\u001b[38;5;124mInvalid range\u001b[39m\u001b[38;5;124m\"\u001b[39m)\n",
      "\u001b[0;31mValueError\u001b[0m: Invalid range"
     ]
    }
   ],
   "source": [
    "temp = -15\n",
    "if temp > 50 or temp < -10:\n",
    "  raise ValueError(\"Invalid range\")"
   ]
  },
  {
   "cell_type": "code",
   "execution_count": 11,
   "id": "f5bf0860-41c6-4bb9-acfe-f006571e1a31",
   "metadata": {},
   "outputs": [
    {
     "name": "stdout",
     "output_type": "stream",
     "text": [
      "Green\n"
     ]
    }
   ],
   "source": [
    "color = \"Green\"\n",
    "try:\n",
    "  print(color)\n",
    "except NameError:\n",
    "  print(\"Check the variable name\")"
   ]
  },
  {
   "cell_type": "code",
   "execution_count": 12,
   "id": "f76023e9-0dc7-42f4-92a2-ed39ad1318d5",
   "metadata": {},
   "outputs": [
    {
     "name": "stdout",
     "output_type": "stream",
     "text": [
      "Check the variable name\n"
     ]
    }
   ],
   "source": [
    "color = \"Green\"\n",
    "try:\n",
    "  print(size)\n",
    "except NameError:\n",
    "  print(\"Check the variable name\")"
   ]
  },
  {
   "cell_type": "code",
   "execution_count": 13,
   "id": "32644662-b1a8-4a35-8832-0f36c88343c3",
   "metadata": {},
   "outputs": [
    {
     "name": "stdout",
     "output_type": "stream",
     "text": [
      "Not iterable\n"
     ]
    }
   ],
   "source": [
    "try:\n",
    "  print(len(5))\n",
    "except NameError:\n",
    "  print(\"Variable is not defined\")\n",
    "except TypeError:\n",
    "  print(\"Not iterable\")"
   ]
  },
  {
   "cell_type": "code",
   "execution_count": null,
   "id": "d42061a6-1768-4bc3-8736-c11fde92fcb9",
   "metadata": {},
   "outputs": [],
   "source": []
  }
 ],
 "metadata": {
  "kernelspec": {
   "display_name": "Python 3 (ipykernel)",
   "language": "python",
   "name": "python3"
  },
  "language_info": {
   "codemirror_mode": {
    "name": "ipython",
    "version": 3
   },
   "file_extension": ".py",
   "mimetype": "text/x-python",
   "name": "python",
   "nbconvert_exporter": "python",
   "pygments_lexer": "ipython3",
   "version": "3.11.7"
  }
 },
 "nbformat": 4,
 "nbformat_minor": 5
}
