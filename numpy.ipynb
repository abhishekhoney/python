{
 "cells": [
  {
   "cell_type": "markdown",
   "id": "0b6c0c85-76fe-4688-b2e0-60e54960fa38",
   "metadata": {},
   "source": [
    "#Numpy"
   ]
  },
  {
   "cell_type": "code",
   "execution_count": 1,
   "id": "2a77b479-e6e4-4314-bf83-7c41816912f3",
   "metadata": {},
   "outputs": [],
   "source": [
    "import numpy as np"
   ]
  },
  {
   "cell_type": "code",
   "execution_count": 2,
   "id": "6d0bda7a-d8ce-4d1f-9aaa-f2aa64c4fed6",
   "metadata": {},
   "outputs": [
    {
     "name": "stdout",
     "output_type": "stream",
     "text": [
      "<class 'numpy.ndarray'>\n"
     ]
    }
   ],
   "source": [
    "a=np.array([2,5,8])\n",
    "print(type(a))"
   ]
  },
  {
   "cell_type": "code",
   "execution_count": 3,
   "id": "3b946924-5eca-4488-b0d1-9bb436f575e2",
   "metadata": {},
   "outputs": [
    {
     "name": "stdout",
     "output_type": "stream",
     "text": [
      "a=  [2 5 8]\n",
      "a*6 = [12 30 48]\n"
     ]
    }
   ],
   "source": [
    "print('a= ',a)\n",
    "print('a*6 =' ,a*6)"
   ]
  },
  {
   "cell_type": "code",
   "execution_count": 4,
   "id": "7867260f-2353-4c0c-8926-2da0795aa2e2",
   "metadata": {},
   "outputs": [
    {
     "name": "stdout",
     "output_type": "stream",
     "text": [
      "a=  [2 5 8]\n",
      "a*a = [ 4 25 64]\n"
     ]
    }
   ],
   "source": [
    "print('a= ',a)\n",
    "print('a*a =' ,a*a)"
   ]
  },
  {
   "cell_type": "code",
   "execution_count": 5,
   "id": "41ff13d6-316c-4943-a355-b7ee51322d6d",
   "metadata": {},
   "outputs": [
    {
     "name": "stdout",
     "output_type": "stream",
     "text": [
      "a=  [2 5 8]\n",
      "a+a = [ 4 10 16]\n"
     ]
    }
   ],
   "source": [
    "print('a= ',a)\n",
    "print('a+a =' ,a+a)"
   ]
  },
  {
   "cell_type": "code",
   "execution_count": 6,
   "id": "149f0a1f-3b50-445a-b921-234686d0d173",
   "metadata": {},
   "outputs": [
    {
     "name": "stdout",
     "output_type": "stream",
     "text": [
      "a=  [2 5 8]\n",
      "a/3 = [0.66666667 1.66666667 2.66666667]\n"
     ]
    }
   ],
   "source": [
    "print('a= ',a)\n",
    "print('a/3 =' ,a/3)"
   ]
  },
  {
   "cell_type": "code",
   "execution_count": 7,
   "id": "912fde62-15e3-4e6b-ad80-6bde40155f96",
   "metadata": {},
   "outputs": [],
   "source": [
    "b=np.array([[1,3,5],[7,9,13]])"
   ]
  },
  {
   "cell_type": "code",
   "execution_count": 8,
   "id": "32c49db8-41ac-4a1a-9041-4272b4fa26a4",
   "metadata": {},
   "outputs": [
    {
     "data": {
      "text/plain": [
       "array([[ 1,  3,  5],\n",
       "       [ 7,  9, 13]])"
      ]
     },
     "execution_count": 8,
     "metadata": {},
     "output_type": "execute_result"
    }
   ],
   "source": [
    "b"
   ]
  },
  {
   "cell_type": "code",
   "execution_count": 9,
   "id": "0249f13a-b06d-4268-b39c-8b6aa1d1d85f",
   "metadata": {},
   "outputs": [
    {
     "name": "stdout",
     "output_type": "stream",
     "text": [
      "[[ 1  3  5]\n",
      " [ 7  9 13]]\n"
     ]
    }
   ],
   "source": [
    "print(b)"
   ]
  },
  {
   "cell_type": "code",
   "execution_count": null,
   "id": "460965cd-811e-41d3-99c3-03f4d2ba837f",
   "metadata": {},
   "outputs": [],
   "source": []
  },
  {
   "cell_type": "code",
   "execution_count": 10,
   "id": "15d5cdcb-86e1-4285-b7c1-269ef44ac1e5",
   "metadata": {},
   "outputs": [
    {
     "name": "stdout",
     "output_type": "stream",
     "text": [
      "(2, 3)\n"
     ]
    }
   ],
   "source": [
    "print(b.shape)"
   ]
  },
  {
   "cell_type": "code",
   "execution_count": 11,
   "id": "fce24b98-4702-49eb-9a6a-ab147610e8bf",
   "metadata": {},
   "outputs": [],
   "source": [
    "#zeros\n",
    "c=np.zeros((1,3))"
   ]
  },
  {
   "cell_type": "code",
   "execution_count": 12,
   "id": "3c2780b9-bad9-4f63-8427-429d1a75062f",
   "metadata": {},
   "outputs": [
    {
     "data": {
      "text/plain": [
       "array([[0., 0., 0.]])"
      ]
     },
     "execution_count": 12,
     "metadata": {},
     "output_type": "execute_result"
    }
   ],
   "source": [
    "c"
   ]
  },
  {
   "cell_type": "code",
   "execution_count": 13,
   "id": "0f0c093b-84c5-432c-ba6b-e06e86c86caa",
   "metadata": {},
   "outputs": [
    {
     "name": "stdout",
     "output_type": "stream",
     "text": [
      "(1, 3)\n"
     ]
    }
   ],
   "source": [
    "print(c.shape)"
   ]
  },
  {
   "cell_type": "code",
   "execution_count": 14,
   "id": "8f1a7685-922b-478e-b379-ffd3ef42dd05",
   "metadata": {},
   "outputs": [],
   "source": [
    "#ones\n",
    "d=np.ones((3,3))"
   ]
  },
  {
   "cell_type": "code",
   "execution_count": 15,
   "id": "933d6ca9-d1a1-41b8-9059-77061e92948b",
   "metadata": {},
   "outputs": [
    {
     "data": {
      "text/plain": [
       "array([[1., 1., 1.],\n",
       "       [1., 1., 1.],\n",
       "       [1., 1., 1.]])"
      ]
     },
     "execution_count": 15,
     "metadata": {},
     "output_type": "execute_result"
    }
   ],
   "source": [
    "d"
   ]
  },
  {
   "cell_type": "code",
   "execution_count": 16,
   "id": "6894fade-b31e-43f7-af2f-252c5ddfb191",
   "metadata": {},
   "outputs": [],
   "source": [
    "#constant value\n",
    "e=np.full((3,3),7)"
   ]
  },
  {
   "cell_type": "code",
   "execution_count": 17,
   "id": "adbda239-9388-4e65-a581-7bb037f03400",
   "metadata": {},
   "outputs": [
    {
     "data": {
      "text/plain": [
       "array([[7, 7, 7],\n",
       "       [7, 7, 7],\n",
       "       [7, 7, 7]])"
      ]
     },
     "execution_count": 17,
     "metadata": {},
     "output_type": "execute_result"
    }
   ],
   "source": [
    "e"
   ]
  },
  {
   "cell_type": "code",
   "execution_count": 18,
   "id": "3246d091-6bc9-4bd6-a83d-b0ad9bc1986c",
   "metadata": {},
   "outputs": [],
   "source": [
    "#eye diagonal value\n",
    "f=np.eye((3))"
   ]
  },
  {
   "cell_type": "code",
   "execution_count": 19,
   "id": "390f6a1e-d1e4-48c5-85d9-2b27ff8d93d7",
   "metadata": {},
   "outputs": [
    {
     "data": {
      "text/plain": [
       "array([[1., 0., 0.],\n",
       "       [0., 1., 0.],\n",
       "       [0., 0., 1.]])"
      ]
     },
     "execution_count": 19,
     "metadata": {},
     "output_type": "execute_result"
    }
   ],
   "source": [
    "f"
   ]
  },
  {
   "cell_type": "code",
   "execution_count": 20,
   "id": "112f974d-1224-4902-b660-335b683e8a6d",
   "metadata": {},
   "outputs": [],
   "source": [
    "##random number\n",
    "h=np.random.random((2,3))"
   ]
  },
  {
   "cell_type": "code",
   "execution_count": 21,
   "id": "8465f1b8-a105-44bb-ac06-0fc3f30e77f0",
   "metadata": {},
   "outputs": [
    {
     "data": {
      "text/plain": [
       "array([[0.50510845, 0.09779588, 0.84467292],\n",
       "       [0.5315564 , 0.01594127, 0.93536273]])"
      ]
     },
     "execution_count": 21,
     "metadata": {},
     "output_type": "execute_result"
    }
   ],
   "source": [
    "h"
   ]
  },
  {
   "cell_type": "code",
   "execution_count": 22,
   "id": "0574ca85-5fe6-4890-ba68-8ec26006b673",
   "metadata": {},
   "outputs": [],
   "source": [
    "#transpose\n",
    "i=np.array([[2,5,3],[1,4,8]])"
   ]
  },
  {
   "cell_type": "code",
   "execution_count": 23,
   "id": "47cc2ada-e071-4585-9981-722047b45ec0",
   "metadata": {},
   "outputs": [
    {
     "name": "stdout",
     "output_type": "stream",
     "text": [
      "transpose of matrix  : [[2 1]\n",
      " [5 4]\n",
      " [3 8]]\n"
     ]
    }
   ],
   "source": [
    "print('transpose of matrix  :',i.T)"
   ]
  },
  {
   "cell_type": "code",
   "execution_count": 24,
   "id": "36a36bb0-d55a-4ea9-aa4b-db8dfe6845d2",
   "metadata": {},
   "outputs": [
    {
     "name": "stdout",
     "output_type": "stream",
     "text": [
      "a series of number ; [ 5  6  7  8  9 10 11 12 13 14 15]\n"
     ]
    }
   ],
   "source": [
    "#ARANGE\n",
    "j=np.arange(5,16)\n",
    "print(\"a series of number ;\", j)"
   ]
  },
  {
   "cell_type": "code",
   "execution_count": 25,
   "id": "5ec89bbe-37b8-4438-912f-8325ee83cef3",
   "metadata": {},
   "outputs": [
    {
     "data": {
      "text/plain": [
       "array([ 5,  6,  7,  8,  9, 10, 11, 12, 13, 14, 15])"
      ]
     },
     "execution_count": 25,
     "metadata": {},
     "output_type": "execute_result"
    }
   ],
   "source": [
    "j"
   ]
  },
  {
   "cell_type": "code",
   "execution_count": 26,
   "id": "e691f942-1233-475b-b663-d6fbf7f7dffe",
   "metadata": {},
   "outputs": [],
   "source": [
    "#skipping\n",
    "k=np.arange(1,11,2)"
   ]
  },
  {
   "cell_type": "code",
   "execution_count": 27,
   "id": "087dc946-4c42-4fea-84ec-c71c26e10b08",
   "metadata": {},
   "outputs": [
    {
     "data": {
      "text/plain": [
       "array([1, 3, 5, 7, 9])"
      ]
     },
     "execution_count": 27,
     "metadata": {},
     "output_type": "execute_result"
    }
   ],
   "source": [
    "k"
   ]
  },
  {
   "cell_type": "code",
   "execution_count": 28,
   "id": "f3869e6b-317c-401f-bbb4-0928a0f18d0b",
   "metadata": {},
   "outputs": [],
   "source": [
    "l=np.arange(50,-1,-5)"
   ]
  },
  {
   "cell_type": "code",
   "execution_count": 29,
   "id": "f91e2a38-1baf-49ba-90cf-fcfb951ff7a3",
   "metadata": {},
   "outputs": [
    {
     "data": {
      "text/plain": [
       "array([50, 45, 40, 35, 30, 25, 20, 15, 10,  5,  0])"
      ]
     },
     "execution_count": 29,
     "metadata": {},
     "output_type": "execute_result"
    }
   ],
   "source": [
    "l"
   ]
  },
  {
   "cell_type": "code",
   "execution_count": 30,
   "id": "6f6ce8a0-956c-4128-80ec-ab48dda6936b",
   "metadata": {},
   "outputs": [
    {
     "name": "stdout",
     "output_type": "stream",
     "text": [
      "[50 45 40 35 30 25 20 15 10  5  0]\n"
     ]
    }
   ],
   "source": [
    "print(l)"
   ]
  },
  {
   "cell_type": "code",
   "execution_count": 31,
   "id": "91419d59-d207-46a0-b09e-12c44e4d2b6f",
   "metadata": {},
   "outputs": [
    {
     "data": {
      "text/plain": [
       "array([ 1.        ,  1.18367347,  1.36734694,  1.55102041,  1.73469388,\n",
       "        1.91836735,  2.10204082,  2.28571429,  2.46938776,  2.65306122,\n",
       "        2.83673469,  3.02040816,  3.20408163,  3.3877551 ,  3.57142857,\n",
       "        3.75510204,  3.93877551,  4.12244898,  4.30612245,  4.48979592,\n",
       "        4.67346939,  4.85714286,  5.04081633,  5.2244898 ,  5.40816327,\n",
       "        5.59183673,  5.7755102 ,  5.95918367,  6.14285714,  6.32653061,\n",
       "        6.51020408,  6.69387755,  6.87755102,  7.06122449,  7.24489796,\n",
       "        7.42857143,  7.6122449 ,  7.79591837,  7.97959184,  8.16326531,\n",
       "        8.34693878,  8.53061224,  8.71428571,  8.89795918,  9.08163265,\n",
       "        9.26530612,  9.44897959,  9.63265306,  9.81632653, 10.        ])"
      ]
     },
     "execution_count": 31,
     "metadata": {},
     "output_type": "execute_result"
    }
   ],
   "source": [
    "#linspace\n",
    "m=np.linspace(1,10)\n",
    "m"
   ]
  },
  {
   "cell_type": "code",
   "execution_count": 32,
   "id": "10f22ed9-aea9-4e23-888a-468aed5132fa",
   "metadata": {},
   "outputs": [
    {
     "data": {
      "text/plain": [
       "array([ 1.  ,  5.75, 10.5 , 15.25, 20.  ])"
      ]
     },
     "execution_count": 32,
     "metadata": {},
     "output_type": "execute_result"
    }
   ],
   "source": [
    "n=np.linspace(1,20,5)\n",
    "n"
   ]
  },
  {
   "cell_type": "code",
   "execution_count": 37,
   "id": "d2f66a70-1abc-4247-807f-f9da7902152d",
   "metadata": {},
   "outputs": [
    {
     "name": "stdout",
     "output_type": "stream",
     "text": [
      "[[0.50510845 0.09779588 0.84467292]\n",
      " [0.5315564  0.01594127 0.93536273]]\n"
     ]
    }
   ],
   "source": [
    "#empty\n",
    "print(np.empty((2,3)))"
   ]
  },
  {
   "cell_type": "code",
   "execution_count": 35,
   "id": "506d653e-0470-4aaa-97fa-558e52055186",
   "metadata": {},
   "outputs": [
    {
     "name": "stdout",
     "output_type": "stream",
     "text": [
      "Empty matrix\n",
      "-------------\n",
      " [[1.69311700e-313 0.00000000e+000]\n",
      " [1.87192224e-316 1.86186860e-316]]\n"
     ]
    }
   ],
   "source": [
    "print(\"Empty matrix\\n-------------\\n\", np.empty((2,2)))"
   ]
  },
  {
   "cell_type": "code",
   "execution_count": null,
   "id": "a63e54b3-c12b-4629-8f6f-21bfbee0d34b",
   "metadata": {},
   "outputs": [],
   "source": []
  }
 ],
 "metadata": {
  "kernelspec": {
   "display_name": "Python 3 (ipykernel)",
   "language": "python",
   "name": "python3"
  },
  "language_info": {
   "codemirror_mode": {
    "name": "ipython",
    "version": 3
   },
   "file_extension": ".py",
   "mimetype": "text/x-python",
   "name": "python",
   "nbconvert_exporter": "python",
   "pygments_lexer": "ipython3",
   "version": "3.11.7"
  }
 },
 "nbformat": 4,
 "nbformat_minor": 5
}
