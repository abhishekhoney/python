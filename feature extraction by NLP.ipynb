{
 "cells": [
  {
   "cell_type": "markdown",
   "id": "9ea803ec-f393-4ad7-90f7-433009f68a4b",
   "metadata": {},
   "source": [
    "## reading the file"
   ]
  },
  {
   "cell_type": "code",
   "execution_count": 81,
   "id": "af7cf4b1-0ee1-4993-8ae8-667f9857164d",
   "metadata": {},
   "outputs": [
    {
     "name": "stdout",
     "output_type": "stream",
     "text": [
      "Abhishek\n",
      "This is a story about dogs\n",
      "our canine pet\n",
      "dogs are funny animals\n",
      "\f",
      "\n"
     ]
    }
   ],
   "source": [
    "with open('one.txt') as mytext:  #here we are using jupyter , if we want to us google colab then have to paste the path of file\n",
    "  print(mytext.read())"
   ]
  },
  {
   "cell_type": "code",
   "execution_count": 82,
   "id": "fc15bac5-cf89-4af7-b6d1-2f9486fb8538",
   "metadata": {},
   "outputs": [
    {
     "name": "stdout",
     "output_type": "stream",
     "text": [
      "Data Science\n",
      "This story is about surfing\n",
      "catching waves is fun\n",
      "surfing is a popular water sport\n",
      "\f",
      "\n"
     ]
    }
   ],
   "source": [
    "with open('two.txt') as mytext:  #here we are using jupyter , if we want to us google colab then have to paste the path of file\n",
    "  print(mytext.read())"
   ]
  },
  {
   "cell_type": "markdown",
   "id": "10027d55-d9f1-44ce-b2a8-451046cadb4a",
   "metadata": {},
   "source": [
    "## reading entire text as a string"
   ]
  },
  {
   "cell_type": "code",
   "execution_count": 83,
   "id": "f8e4783d-c9c9-462a-81d9-80d24af5cd6f",
   "metadata": {},
   "outputs": [],
   "source": [
    "with open('one.txt') as mytext:\n",
    "  entire_text=mytext.read()"
   ]
  },
  {
   "cell_type": "code",
   "execution_count": 84,
   "id": "cdf05364-137c-453a-a26b-308d08f4ebe4",
   "metadata": {},
   "outputs": [
    {
     "data": {
      "text/plain": [
       "'Abhishek\\nThis is a story about dogs\\nour canine pet\\ndogs are funny animals\\n\\x0c'"
      ]
     },
     "execution_count": 84,
     "metadata": {},
     "output_type": "execute_result"
    }
   ],
   "source": [
    "entire_text"
   ]
  },
  {
   "cell_type": "code",
   "execution_count": 85,
   "id": "008ab5ce-f421-41ab-a878-1c1d72d707ae",
   "metadata": {},
   "outputs": [
    {
     "data": {
      "text/plain": [
       "str"
      ]
     },
     "execution_count": 85,
     "metadata": {},
     "output_type": "execute_result"
    }
   ],
   "source": [
    "type(entire_text)"
   ]
  },
  {
   "cell_type": "code",
   "execution_count": 86,
   "id": "bc7f9752-f1ab-4af4-adf1-c5c66f713c21",
   "metadata": {},
   "outputs": [
    {
     "name": "stdout",
     "output_type": "stream",
     "text": [
      "Abhishek\n",
      "This is a story about dogs\n",
      "our canine pet\n",
      "dogs are funny animals\n",
      "\f",
      "\n"
     ]
    }
   ],
   "source": [
    "print(entire_text)"
   ]
  },
  {
   "cell_type": "markdown",
   "id": "ea5e6ff8-0c75-4a5b-a363-347a4e636f11",
   "metadata": {},
   "source": [
    "## reading each line as a list"
   ]
  },
  {
   "cell_type": "code",
   "execution_count": 87,
   "id": "7621a5b5-1186-41f1-bee7-12addc1e215e",
   "metadata": {},
   "outputs": [],
   "source": [
    "with open('one.txt') as mytext:\n",
    "  lines=mytext.readlines()"
   ]
  },
  {
   "cell_type": "code",
   "execution_count": 88,
   "id": "a4bc66bc-cc90-40b0-b8f5-9619203d9f74",
   "metadata": {},
   "outputs": [
    {
     "data": {
      "text/plain": [
       "['Abhishek\\n',\n",
       " 'This is a story about dogs\\n',\n",
       " 'our canine pet\\n',\n",
       " 'dogs are funny animals\\n',\n",
       " '\\x0c']"
      ]
     },
     "execution_count": 88,
     "metadata": {},
     "output_type": "execute_result"
    }
   ],
   "source": [
    "lines"
   ]
  },
  {
   "cell_type": "code",
   "execution_count": 89,
   "id": "47184e42-0bfd-4081-8150-b2b301dda548",
   "metadata": {},
   "outputs": [
    {
     "data": {
      "text/plain": [
       "list"
      ]
     },
     "execution_count": 89,
     "metadata": {},
     "output_type": "execute_result"
    }
   ],
   "source": [
    "type(lines)"
   ]
  },
  {
   "cell_type": "markdown",
   "id": "b5f43483-1457-40eb-a619-afa42b0a4ecb",
   "metadata": {},
   "source": [
    "## reading in words separately"
   ]
  },
  {
   "cell_type": "code",
   "execution_count": 90,
   "id": "2487946a-46a1-4d48-82b5-88857d67e32e",
   "metadata": {},
   "outputs": [],
   "source": [
    "with open('one.txt') as f:\n",
    "  words=f.read().split()"
   ]
  },
  {
   "cell_type": "code",
   "execution_count": 91,
   "id": "b1979425-d346-4fdd-b18a-f17575e77332",
   "metadata": {},
   "outputs": [
    {
     "data": {
      "text/plain": [
       "['Abhishek',\n",
       " 'This',\n",
       " 'is',\n",
       " 'a',\n",
       " 'story',\n",
       " 'about',\n",
       " 'dogs',\n",
       " 'our',\n",
       " 'canine',\n",
       " 'pet',\n",
       " 'dogs',\n",
       " 'are',\n",
       " 'funny',\n",
       " 'animals']"
      ]
     },
     "execution_count": 91,
     "metadata": {},
     "output_type": "execute_result"
    }
   ],
   "source": [
    "words"
   ]
  },
  {
   "cell_type": "code",
   "execution_count": 92,
   "id": "37039535-65e5-42dc-a6bc-c6a48c872e75",
   "metadata": {},
   "outputs": [],
   "source": [
    "with open('one.txt') as f:\n",
    "  words=f.read().lower().split()   #lower function used"
   ]
  },
  {
   "cell_type": "code",
   "execution_count": 93,
   "id": "89ecd9d2-dcde-48ca-8cdd-a53f5aa144fd",
   "metadata": {},
   "outputs": [
    {
     "data": {
      "text/plain": [
       "['abhishek',\n",
       " 'this',\n",
       " 'is',\n",
       " 'a',\n",
       " 'story',\n",
       " 'about',\n",
       " 'dogs',\n",
       " 'our',\n",
       " 'canine',\n",
       " 'pet',\n",
       " 'dogs',\n",
       " 'are',\n",
       " 'funny',\n",
       " 'animals']"
      ]
     },
     "execution_count": 93,
     "metadata": {},
     "output_type": "execute_result"
    }
   ],
   "source": [
    "words"
   ]
  },
  {
   "cell_type": "code",
   "execution_count": 94,
   "id": "3fa72f3b-e95d-417b-aabc-8f320f92189f",
   "metadata": {},
   "outputs": [],
   "source": [
    "with open('one.txt') as f:\n",
    "  words=f.read().upper().split() "
   ]
  },
  {
   "cell_type": "code",
   "execution_count": 95,
   "id": "66d7b6ae-6fe9-4db1-bf56-bed02274bdbb",
   "metadata": {},
   "outputs": [
    {
     "data": {
      "text/plain": [
       "['ABHISHEK',\n",
       " 'THIS',\n",
       " 'IS',\n",
       " 'A',\n",
       " 'STORY',\n",
       " 'ABOUT',\n",
       " 'DOGS',\n",
       " 'OUR',\n",
       " 'CANINE',\n",
       " 'PET',\n",
       " 'DOGS',\n",
       " 'ARE',\n",
       " 'FUNNY',\n",
       " 'ANIMALS']"
      ]
     },
     "execution_count": 95,
     "metadata": {},
     "output_type": "execute_result"
    }
   ],
   "source": [
    "words   "
   ]
  },
  {
   "cell_type": "code",
   "execution_count": 96,
   "id": "2f22a2fb-5f4a-42db-8754-a9b29cd32a63",
   "metadata": {},
   "outputs": [
    {
     "data": {
      "text/plain": [
       "'IS'"
      ]
     },
     "execution_count": 96,
     "metadata": {},
     "output_type": "execute_result"
    }
   ],
   "source": [
    "words[2]  #all are element of list"
   ]
  },
  {
   "cell_type": "markdown",
   "id": "d123da0d-e2ce-453f-bf80-c061fc9a4839",
   "metadata": {},
   "source": [
    "## building a vocabulary(creating a \"bag of words\")"
   ]
  },
  {
   "cell_type": "code",
   "execution_count": 97,
   "id": "b2c86aed-cc41-4680-b61c-94777416069b",
   "metadata": {},
   "outputs": [],
   "source": [
    "with open('one.txt') as f:\n",
    "  words_one=f.read().lower().split() "
   ]
  },
  {
   "cell_type": "code",
   "execution_count": 98,
   "id": "8c6ea490-5abb-40fb-8547-3f7d92c49539",
   "metadata": {},
   "outputs": [
    {
     "data": {
      "text/plain": [
       "['abhishek',\n",
       " 'this',\n",
       " 'is',\n",
       " 'a',\n",
       " 'story',\n",
       " 'about',\n",
       " 'dogs',\n",
       " 'our',\n",
       " 'canine',\n",
       " 'pet',\n",
       " 'dogs',\n",
       " 'are',\n",
       " 'funny',\n",
       " 'animals']"
      ]
     },
     "execution_count": 98,
     "metadata": {},
     "output_type": "execute_result"
    }
   ],
   "source": [
    "words_one"
   ]
  },
  {
   "cell_type": "code",
   "execution_count": 99,
   "id": "214cb584-16d5-4be6-91c9-cca76047bcc9",
   "metadata": {},
   "outputs": [
    {
     "data": {
      "text/plain": [
       "14"
      ]
     },
     "execution_count": 99,
     "metadata": {},
     "output_type": "execute_result"
    }
   ],
   "source": [
    "len(words_one)"
   ]
  },
  {
   "cell_type": "code",
   "execution_count": 100,
   "id": "6fbf81dd-49ba-495d-afed-8a83d109e902",
   "metadata": {},
   "outputs": [
    {
     "name": "stdout",
     "output_type": "stream",
     "text": [
      "[3, 4, 7, 4, 9, 6, 1, 7]\n",
      "{1, 3, 4, 6, 7, 9}\n"
     ]
    }
   ],
   "source": [
    "var1=[3,4,7,4,9,6,1,7]\n",
    "print(var1)\n",
    "var2=set(var1)  #type casting\n",
    "print(var2)     #set remove all the duplicate element"
   ]
  },
  {
   "cell_type": "code",
   "execution_count": 101,
   "id": "80b2cf6c-325e-4ac7-8dde-44b17fa2f86f",
   "metadata": {},
   "outputs": [],
   "source": [
    "uni_words_one=set(words_one)    #type casting"
   ]
  },
  {
   "cell_type": "code",
   "execution_count": 102,
   "id": "5e906d3e-7b29-4e24-b8f9-dbf4e1fe3bcf",
   "metadata": {},
   "outputs": [
    {
     "data": {
      "text/plain": [
       "13"
      ]
     },
     "execution_count": 102,
     "metadata": {},
     "output_type": "execute_result"
    }
   ],
   "source": [
    "len(uni_words_one)"
   ]
  },
  {
   "cell_type": "code",
   "execution_count": 103,
   "id": "ab04c35d-b491-4b7b-9b94-88a32c6d3d3f",
   "metadata": {},
   "outputs": [],
   "source": [
    "with open('two.txt') as f:\n",
    "  words_two=f.read().lower().split() \n",
    "  uni_words_two=set(words_two)"
   ]
  },
  {
   "cell_type": "code",
   "execution_count": 104,
   "id": "bb203e86-5f9a-4447-b227-d4ad936ae6e6",
   "metadata": {},
   "outputs": [
    {
     "data": {
      "text/plain": [
       "{'a',\n",
       " 'about',\n",
       " 'catching',\n",
       " 'data',\n",
       " 'fun',\n",
       " 'is',\n",
       " 'popular',\n",
       " 'science',\n",
       " 'sport',\n",
       " 'story',\n",
       " 'surfing',\n",
       " 'this',\n",
       " 'water',\n",
       " 'waves'}"
      ]
     },
     "execution_count": 104,
     "metadata": {},
     "output_type": "execute_result"
    }
   ],
   "source": [
    "uni_words_two"
   ]
  },
  {
   "cell_type": "markdown",
   "id": "f9c27e21-c6fe-40b5-97db-03ea84a9d224",
   "metadata": {},
   "source": [
    "# get all unique words across all documents"
   ]
  },
  {
   "cell_type": "code",
   "execution_count": 105,
   "id": "302be750-ce67-4ea3-a48b-148f27b97fcd",
   "metadata": {},
   "outputs": [],
   "source": [
    "all_uni_words=set()\n",
    "all_uni_words.update(uni_words_one)\n",
    "all_uni_words.update(uni_words_two)"
   ]
  },
  {
   "cell_type": "code",
   "execution_count": 106,
   "id": "58e41ca9-c01b-45ab-a936-973af9273603",
   "metadata": {},
   "outputs": [
    {
     "data": {
      "text/plain": [
       "{'a',\n",
       " 'abhishek',\n",
       " 'about',\n",
       " 'animals',\n",
       " 'are',\n",
       " 'canine',\n",
       " 'catching',\n",
       " 'data',\n",
       " 'dogs',\n",
       " 'fun',\n",
       " 'funny',\n",
       " 'is',\n",
       " 'our',\n",
       " 'pet',\n",
       " 'popular',\n",
       " 'science',\n",
       " 'sport',\n",
       " 'story',\n",
       " 'surfing',\n",
       " 'this',\n",
       " 'water',\n",
       " 'waves'}"
      ]
     },
     "execution_count": 106,
     "metadata": {},
     "output_type": "execute_result"
    }
   ],
   "source": [
    "all_uni_words   #all unique words from both the doc"
   ]
  },
  {
   "cell_type": "code",
   "execution_count": 107,
   "id": "fc0a6952-557b-4e08-937b-fbd81c10e6c0",
   "metadata": {},
   "outputs": [
    {
     "data": {
      "text/plain": [
       "22"
      ]
     },
     "execution_count": 107,
     "metadata": {},
     "output_type": "execute_result"
    }
   ],
   "source": [
    "len(all_uni_words)"
   ]
  },
  {
   "cell_type": "code",
   "execution_count": 108,
   "id": "ae6faf0f-f8e2-46cf-9b89-26ff0a2ea9b6",
   "metadata": {},
   "outputs": [],
   "source": [
    "full_vocab=dict()   #with the help of dict. giving the index no.\n",
    "i=0\n",
    "for word in all_uni_words:\n",
    "      full_vocab[word]=i\n",
    "      i=i+1"
   ]
  },
  {
   "cell_type": "code",
   "execution_count": 109,
   "id": "aee7a4c1-6c03-4a3b-9273-19d57ca0df36",
   "metadata": {},
   "outputs": [
    {
     "data": {
      "text/plain": [
       "{'this': 0,\n",
       " 'fun': 1,\n",
       " 'funny': 2,\n",
       " 'story': 3,\n",
       " 'pet': 4,\n",
       " 'animals': 5,\n",
       " 'popular': 6,\n",
       " 'water': 7,\n",
       " 'abhishek': 8,\n",
       " 'about': 9,\n",
       " 'a': 10,\n",
       " 'is': 11,\n",
       " 'catching': 12,\n",
       " 'canine': 13,\n",
       " 'waves': 14,\n",
       " 'surfing': 15,\n",
       " 'sport': 16,\n",
       " 'our': 17,\n",
       " 'science': 18,\n",
       " 'data': 19,\n",
       " 'dogs': 20,\n",
       " 'are': 21}"
      ]
     },
     "execution_count": 109,
     "metadata": {},
     "output_type": "execute_result"
    }
   ],
   "source": [
    "full_vocab"
   ]
  },
  {
   "cell_type": "markdown",
   "id": "ae2ddb8f-2a29-48ff-a245-59472162c603",
   "metadata": {},
   "source": [
    "## empty count per doc"
   ]
  },
  {
   "cell_type": "code",
   "execution_count": 30,
   "id": "f5cf78df-9758-47bd-a862-43df8e81dc1f",
   "metadata": {},
   "outputs": [],
   "source": [
    "# create an empty vector with space for each word in the vocabulary"
   ]
  },
  {
   "cell_type": "code",
   "execution_count": 31,
   "id": "9f88917b-5786-4a2a-8ce8-2e7a1a4f0938",
   "metadata": {},
   "outputs": [],
   "source": [
    "one_freq=[0]*len(full_vocab)\n",
    "two_freq=[0]*len(full_vocab)\n",
    "all_words=['']*len(full_vocab)"
   ]
  },
  {
   "cell_type": "code",
   "execution_count": 32,
   "id": "5dc62b3c-3024-4144-a4b3-a482eafb9028",
   "metadata": {},
   "outputs": [
    {
     "data": {
      "text/plain": [
       "[0, 0, 0, 0, 0, 0, 0, 0, 0, 0, 0, 0, 0, 0, 0, 0, 0, 0, 0, 0, 0, 0]"
      ]
     },
     "execution_count": 32,
     "metadata": {},
     "output_type": "execute_result"
    }
   ],
   "source": [
    "one_freq"
   ]
  },
  {
   "cell_type": "code",
   "execution_count": 33,
   "id": "db0708f3-ea30-4f4a-8a77-398dc749bcc3",
   "metadata": {},
   "outputs": [
    {
     "data": {
      "text/plain": [
       "[0, 0, 0, 0, 0, 0, 0, 0, 0, 0, 0, 0, 0, 0, 0, 0, 0, 0, 0, 0, 0, 0]"
      ]
     },
     "execution_count": 33,
     "metadata": {},
     "output_type": "execute_result"
    }
   ],
   "source": [
    "two_freq"
   ]
  },
  {
   "cell_type": "code",
   "execution_count": 34,
   "id": "5583bbbd-3ebc-4215-80d5-fdfa567ff49c",
   "metadata": {},
   "outputs": [
    {
     "data": {
      "text/plain": [
       "['',\n",
       " '',\n",
       " '',\n",
       " '',\n",
       " '',\n",
       " '',\n",
       " '',\n",
       " '',\n",
       " '',\n",
       " '',\n",
       " '',\n",
       " '',\n",
       " '',\n",
       " '',\n",
       " '',\n",
       " '',\n",
       " '',\n",
       " '',\n",
       " '',\n",
       " '',\n",
       " '',\n",
       " '']"
      ]
     },
     "execution_count": 34,
     "metadata": {},
     "output_type": "execute_result"
    }
   ],
   "source": [
    "all_words"
   ]
  },
  {
   "cell_type": "code",
   "execution_count": 110,
   "id": "95735199-46e7-4467-bd32-5ef8111ebce8",
   "metadata": {},
   "outputs": [],
   "source": [
    "for word in full_vocab:\n",
    "    word_ind=full_vocab[word]\n",
    "    all_words[word_ind]=word"
   ]
  },
  {
   "cell_type": "code",
   "execution_count": 111,
   "id": "4377c42b-a68b-4cb0-a9ba-d65729d14129",
   "metadata": {},
   "outputs": [
    {
     "data": {
      "text/plain": [
       "['this',\n",
       " 'fun',\n",
       " 'funny',\n",
       " 'story',\n",
       " 'pet',\n",
       " 'animals',\n",
       " 'popular',\n",
       " 'water',\n",
       " 'abhishek',\n",
       " 'about',\n",
       " 'a',\n",
       " 'is',\n",
       " 'catching',\n",
       " 'canine',\n",
       " 'waves',\n",
       " 'surfing',\n",
       " 'sport',\n",
       " 'our',\n",
       " 'science',\n",
       " 'data',\n",
       " 'dogs',\n",
       " 'are']"
      ]
     },
     "execution_count": 111,
     "metadata": {},
     "output_type": "execute_result"
    }
   ],
   "source": [
    "all_words"
   ]
  },
  {
   "cell_type": "markdown",
   "id": "77607b3a-2cd7-49b9-8b9e-8df0cba3f03e",
   "metadata": {},
   "source": [
    "## counts per word per document"
   ]
  },
  {
   "cell_type": "code",
   "execution_count": 115,
   "id": "08217707-c2f0-4c9f-bec3-47f264ce3a9f",
   "metadata": {},
   "outputs": [],
   "source": [
    "# map the frequencies for each word in one.txt to our vector\n",
    "with open('one.txt') as f:\n",
    "  one_text=f.read().lower().split() \n",
    "\n",
    "for word in one_text:\n",
    "    word_ind=full_vocab[word]\n",
    "    one_freq[word_ind]+=1"
   ]
  },
  {
   "cell_type": "code",
   "execution_count": 116,
   "id": "8aa5dc07-f309-4c3b-a152-247ef68a9907",
   "metadata": {},
   "outputs": [
    {
     "data": {
      "text/plain": [
       "[3, 0, 3, 3, 3, 3, 0, 0, 3, 3, 3, 3, 0, 3, 0, 0, 0, 3, 0, 0, 6, 3]"
      ]
     },
     "execution_count": 116,
     "metadata": {},
     "output_type": "execute_result"
    }
   ],
   "source": [
    "one_freq"
   ]
  },
  {
   "cell_type": "code",
   "execution_count": 39,
   "id": "b953ab2b-be04-4f6c-aa46-d97934c7d548",
   "metadata": {},
   "outputs": [],
   "source": [
    "with open('two.txt') as f:\n",
    "  two_text=f.read().lower().split() \n",
    "\n",
    "for word in two_text:\n",
    "    word_ind=full_vocab[word]\n",
    "    two_freq[word_ind]+=1"
   ]
  },
  {
   "cell_type": "code",
   "execution_count": 40,
   "id": "a90fbbcc-e350-411d-aa24-a388f6c98261",
   "metadata": {},
   "outputs": [
    {
     "data": {
      "text/plain": [
       "[1, 1, 0, 1, 0, 0, 1, 1, 0, 1, 1, 3, 1, 0, 1, 2, 1, 0, 1, 1, 0, 0]"
      ]
     },
     "execution_count": 40,
     "metadata": {},
     "output_type": "execute_result"
    }
   ],
   "source": [
    "two_freq"
   ]
  },
  {
   "cell_type": "code",
   "execution_count": 41,
   "id": "afe93b13-796e-422a-9fa5-34531a7ceb44",
   "metadata": {},
   "outputs": [],
   "source": [
    "import pandas as pd"
   ]
  },
  {
   "cell_type": "code",
   "execution_count": 42,
   "id": "4989455e-1073-4a60-a605-139a5ff499df",
   "metadata": {},
   "outputs": [
    {
     "data": {
      "text/html": [
       "<div>\n",
       "<style scoped>\n",
       "    .dataframe tbody tr th:only-of-type {\n",
       "        vertical-align: middle;\n",
       "    }\n",
       "\n",
       "    .dataframe tbody tr th {\n",
       "        vertical-align: top;\n",
       "    }\n",
       "\n",
       "    .dataframe thead th {\n",
       "        text-align: right;\n",
       "    }\n",
       "</style>\n",
       "<table border=\"1\" class=\"dataframe\">\n",
       "  <thead>\n",
       "    <tr style=\"text-align: right;\">\n",
       "      <th></th>\n",
       "      <th>this</th>\n",
       "      <th>fun</th>\n",
       "      <th>funny</th>\n",
       "      <th>story</th>\n",
       "      <th>pet</th>\n",
       "      <th>animals</th>\n",
       "      <th>popular</th>\n",
       "      <th>water</th>\n",
       "      <th>abhishek</th>\n",
       "      <th>about</th>\n",
       "      <th>...</th>\n",
       "      <th>catching</th>\n",
       "      <th>canine</th>\n",
       "      <th>waves</th>\n",
       "      <th>surfing</th>\n",
       "      <th>sport</th>\n",
       "      <th>our</th>\n",
       "      <th>science</th>\n",
       "      <th>data</th>\n",
       "      <th>dogs</th>\n",
       "      <th>are</th>\n",
       "    </tr>\n",
       "  </thead>\n",
       "  <tbody>\n",
       "    <tr>\n",
       "      <th>0</th>\n",
       "      <td>1</td>\n",
       "      <td>0</td>\n",
       "      <td>1</td>\n",
       "      <td>1</td>\n",
       "      <td>1</td>\n",
       "      <td>1</td>\n",
       "      <td>0</td>\n",
       "      <td>0</td>\n",
       "      <td>1</td>\n",
       "      <td>1</td>\n",
       "      <td>...</td>\n",
       "      <td>0</td>\n",
       "      <td>1</td>\n",
       "      <td>0</td>\n",
       "      <td>0</td>\n",
       "      <td>0</td>\n",
       "      <td>1</td>\n",
       "      <td>0</td>\n",
       "      <td>0</td>\n",
       "      <td>2</td>\n",
       "      <td>1</td>\n",
       "    </tr>\n",
       "    <tr>\n",
       "      <th>1</th>\n",
       "      <td>1</td>\n",
       "      <td>1</td>\n",
       "      <td>0</td>\n",
       "      <td>1</td>\n",
       "      <td>0</td>\n",
       "      <td>0</td>\n",
       "      <td>1</td>\n",
       "      <td>1</td>\n",
       "      <td>0</td>\n",
       "      <td>1</td>\n",
       "      <td>...</td>\n",
       "      <td>1</td>\n",
       "      <td>0</td>\n",
       "      <td>1</td>\n",
       "      <td>2</td>\n",
       "      <td>1</td>\n",
       "      <td>0</td>\n",
       "      <td>1</td>\n",
       "      <td>1</td>\n",
       "      <td>0</td>\n",
       "      <td>0</td>\n",
       "    </tr>\n",
       "  </tbody>\n",
       "</table>\n",
       "<p>2 rows × 22 columns</p>\n",
       "</div>"
      ],
      "text/plain": [
       "   this  fun  funny  story  pet  animals  popular  water  abhishek  about  \\\n",
       "0     1    0      1      1    1        1        0      0         1      1   \n",
       "1     1    1      0      1    0        0        1      1         0      1   \n",
       "\n",
       "   ...  catching  canine  waves  surfing  sport  our  science  data  dogs  are  \n",
       "0  ...         0       1      0        0      0    1        0     0     2    1  \n",
       "1  ...         1       0      1        2      1    0        1     1     0    0  \n",
       "\n",
       "[2 rows x 22 columns]"
      ]
     },
     "execution_count": 42,
     "metadata": {},
     "output_type": "execute_result"
    }
   ],
   "source": [
    "pd.DataFrame(data=[one_freq,two_freq],columns=all_words)"
   ]
  },
  {
   "cell_type": "markdown",
   "id": "73487865-e87e-49a1-a9b8-359f44c0ea14",
   "metadata": {},
   "source": [
    "# Scikit-learns text feature extraction options"
   ]
  },
  {
   "cell_type": "code",
   "execution_count": 43,
   "id": "7e2dbcaf-9dc1-42b1-87a6-64173085302e",
   "metadata": {},
   "outputs": [],
   "source": [
    "text=['This is a line',\n",
    "    \"This is another line\",\n",
    "\"Completely different line\"]"
   ]
  },
  {
   "cell_type": "code",
   "execution_count": 44,
   "id": "91398b0e-1dc9-4110-af98-18d78f42acbc",
   "metadata": {},
   "outputs": [
    {
     "data": {
      "text/plain": [
       "['This is a line', 'This is another line', 'Completely different line']"
      ]
     },
     "execution_count": 44,
     "metadata": {},
     "output_type": "execute_result"
    }
   ],
   "source": [
    "text"
   ]
  },
  {
   "cell_type": "markdown",
   "id": "06206e74-37ca-42d4-b257-c83f0c3a6f03",
   "metadata": {},
   "source": [
    "### count vectorizer"
   ]
  },
  {
   "cell_type": "code",
   "execution_count": 45,
   "id": "9532b1b0-909e-41e3-8d6b-16ac154d2b4f",
   "metadata": {},
   "outputs": [],
   "source": [
    "from sklearn.feature_extraction.text import TfidfTransformer , TfidfVectorizer, CountVectorizer"
   ]
  },
  {
   "cell_type": "code",
   "execution_count": 46,
   "id": "2c23994e-1a39-4a31-995f-bf6976780621",
   "metadata": {},
   "outputs": [],
   "source": [
    "cv=CountVectorizer()  #pre defined files which is provided by Tfid"
   ]
  },
  {
   "cell_type": "code",
   "execution_count": 47,
   "id": "afc61b17-007a-4014-bc7c-7931e27c1a10",
   "metadata": {},
   "outputs": [
    {
     "data": {
      "text/plain": [
       "<3x6 sparse matrix of type '<class 'numpy.int64'>'\n",
       "\twith 10 stored elements in Compressed Sparse Row format>"
      ]
     },
     "execution_count": 47,
     "metadata": {},
     "output_type": "execute_result"
    }
   ],
   "source": [
    "cv.fit_transform(text)"
   ]
  },
  {
   "cell_type": "code",
   "execution_count": 48,
   "id": "ebe18fdd-b003-47db-b8be-c67b65f58e36",
   "metadata": {},
   "outputs": [],
   "source": [
    "sparse_mat=cv.fit_transform(text)"
   ]
  },
  {
   "cell_type": "code",
   "execution_count": 49,
   "id": "16ce1b7a-ed20-4859-b612-ea58770bf529",
   "metadata": {},
   "outputs": [
    {
     "data": {
      "text/plain": [
       "matrix([[0, 0, 0, 1, 1, 1],\n",
       "        [1, 0, 0, 1, 1, 1],\n",
       "        [0, 1, 1, 0, 1, 0]])"
      ]
     },
     "execution_count": 49,
     "metadata": {},
     "output_type": "execute_result"
    }
   ],
   "source": [
    "sparse_mat.todense()"
   ]
  },
  {
   "cell_type": "code",
   "execution_count": 50,
   "id": "1963e026-8bc8-48fa-b36e-efe215c1d77e",
   "metadata": {},
   "outputs": [
    {
     "data": {
      "text/plain": [
       "{'this': 5, 'is': 3, 'line': 4, 'another': 0, 'completely': 1, 'different': 2}"
      ]
     },
     "execution_count": 50,
     "metadata": {},
     "output_type": "execute_result"
    }
   ],
   "source": [
    "cv.vocabulary_"
   ]
  },
  {
   "cell_type": "code",
   "execution_count": 51,
   "id": "a51d0489-988d-48eb-9e70-8eec73b76699",
   "metadata": {},
   "outputs": [],
   "source": [
    "cv=CountVectorizer(stop_words='english') #remove basic word which do not have meaning"
   ]
  },
  {
   "cell_type": "code",
   "execution_count": 52,
   "id": "e23ba1bb-4a01-4b11-88ee-e5c22611871e",
   "metadata": {},
   "outputs": [
    {
     "data": {
      "text/plain": [
       "matrix([[0, 0, 1],\n",
       "        [0, 0, 1],\n",
       "        [1, 1, 1]])"
      ]
     },
     "execution_count": 52,
     "metadata": {},
     "output_type": "execute_result"
    }
   ],
   "source": [
    "cv.fit_transform(text).todense()"
   ]
  },
  {
   "cell_type": "code",
   "execution_count": 53,
   "id": "d9bedb0b-611d-4f0e-b995-08a799414cc4",
   "metadata": {},
   "outputs": [
    {
     "data": {
      "text/plain": [
       "{'line': 2, 'completely': 0, 'different': 1}"
      ]
     },
     "execution_count": 53,
     "metadata": {},
     "output_type": "execute_result"
    }
   ],
   "source": [
    "cv.vocabulary_"
   ]
  },
  {
   "cell_type": "markdown",
   "id": "6f31345e-2557-4edb-98c1-aeecd2407963",
   "metadata": {},
   "source": [
    "### TfidfTransformer"
   ]
  },
  {
   "cell_type": "code",
   "execution_count": 54,
   "id": "61aab23a-eb6d-4c0c-abc8-46de04e9ed36",
   "metadata": {},
   "outputs": [],
   "source": [
    "#TfidfVerctorizer is used on sentence,while TfidfTransformer is used on an existing count matrix, such as one \n",
    "# returned by CountVectorizer"
   ]
  },
  {
   "cell_type": "code",
   "execution_count": 55,
   "id": "dde6717b-fb7f-45ef-8c95-38e0568a8a40",
   "metadata": {},
   "outputs": [],
   "source": [
    "tfidf_transformer=TfidfTransformer()"
   ]
  },
  {
   "cell_type": "code",
   "execution_count": 56,
   "id": "49fa2512-25ed-4ec6-a3d0-ad0b4e3b72d1",
   "metadata": {},
   "outputs": [],
   "source": [
    "cv=CountVectorizer()"
   ]
  },
  {
   "cell_type": "code",
   "execution_count": 57,
   "id": "57025acb-4f2c-4434-bad0-65b6dfd97f7f",
   "metadata": {},
   "outputs": [],
   "source": [
    "counts=cv.fit_transform(text)"
   ]
  },
  {
   "cell_type": "code",
   "execution_count": 58,
   "id": "fd12835a-f4bd-4fa1-b969-27c503ab98c5",
   "metadata": {},
   "outputs": [
    {
     "data": {
      "text/plain": [
       "<3x6 sparse matrix of type '<class 'numpy.int64'>'\n",
       "\twith 10 stored elements in Compressed Sparse Row format>"
      ]
     },
     "execution_count": 58,
     "metadata": {},
     "output_type": "execute_result"
    }
   ],
   "source": [
    "counts"
   ]
  },
  {
   "cell_type": "code",
   "execution_count": 59,
   "id": "d2abb02c-82c9-44ef-88c6-1ac68c1fc880",
   "metadata": {},
   "outputs": [],
   "source": [
    "tfidf=tfidf_transformer.fit_transform(counts)"
   ]
  },
  {
   "cell_type": "code",
   "execution_count": 60,
   "id": "af0bd4d9-a2d3-46b6-997f-097ff3bb2086",
   "metadata": {},
   "outputs": [
    {
     "data": {
      "text/plain": [
       "matrix([[0.        , 0.        , 0.        , 0.61980538, 0.48133417,\n",
       "         0.61980538],\n",
       "        [0.63174505, 0.        , 0.        , 0.4804584 , 0.37311881,\n",
       "         0.4804584 ],\n",
       "        [0.        , 0.65249088, 0.65249088, 0.        , 0.38537163,\n",
       "         0.        ]])"
      ]
     },
     "execution_count": 60,
     "metadata": {},
     "output_type": "execute_result"
    }
   ],
   "source": [
    "tfidf.todense()"
   ]
  },
  {
   "cell_type": "code",
   "execution_count": 61,
   "id": "f66dc879-639e-4a33-b414-8504c39323cb",
   "metadata": {},
   "outputs": [],
   "source": [
    "from sklearn.pipeline import Pipeline"
   ]
  },
  {
   "cell_type": "code",
   "execution_count": 62,
   "id": "0a8f08ad-2a5d-4bf4-bf05-c4e25b43d9a1",
   "metadata": {},
   "outputs": [],
   "source": [
    "pipe=Pipeline([('cv',CountVectorizer()),('tfidf',TfidfTransformer())])"
   ]
  },
  {
   "cell_type": "code",
   "execution_count": 64,
   "id": "3ec9eac1-8c70-415b-a633-6af67698781c",
   "metadata": {},
   "outputs": [],
   "source": [
    "results=pipe.fit_transform(text)"
   ]
  },
  {
   "cell_type": "code",
   "execution_count": 65,
   "id": "039f0590-61ca-4297-93d6-5ad111632f7a",
   "metadata": {},
   "outputs": [
    {
     "data": {
      "text/plain": [
       "<3x6 sparse matrix of type '<class 'numpy.float64'>'\n",
       "\twith 10 stored elements in Compressed Sparse Row format>"
      ]
     },
     "execution_count": 65,
     "metadata": {},
     "output_type": "execute_result"
    }
   ],
   "source": [
    "results"
   ]
  },
  {
   "cell_type": "code",
   "execution_count": 66,
   "id": "89c1a0a2-b59f-49ab-8621-1b8bd4cfdd21",
   "metadata": {},
   "outputs": [
    {
     "data": {
      "text/plain": [
       "matrix([[0.        , 0.        , 0.        , 0.61980538, 0.48133417,\n",
       "         0.61980538],\n",
       "        [0.63174505, 0.        , 0.        , 0.4804584 , 0.37311881,\n",
       "         0.4804584 ],\n",
       "        [0.        , 0.65249088, 0.65249088, 0.        , 0.38537163,\n",
       "         0.        ]])"
      ]
     },
     "execution_count": 66,
     "metadata": {},
     "output_type": "execute_result"
    }
   ],
   "source": [
    "results.todense()"
   ]
  },
  {
   "cell_type": "markdown",
   "id": "3081c670-6c48-4e36-9bc6-e618db60f0a3",
   "metadata": {},
   "source": [
    "### TfidfVectorizer"
   ]
  },
  {
   "cell_type": "code",
   "execution_count": 71,
   "id": "6ff479db-2722-43f5-b16e-20150b1de862",
   "metadata": {},
   "outputs": [],
   "source": [
    "#Does both above in a single  step"
   ]
  },
  {
   "cell_type": "code",
   "execution_count": 72,
   "id": "2199fb3a-2a3f-43aa-9cb0-f86243d93eb1",
   "metadata": {},
   "outputs": [],
   "source": [
    "tfidf=TfidfVectorizer()"
   ]
  },
  {
   "cell_type": "code",
   "execution_count": 73,
   "id": "8e46014a-db5d-4380-a741-312fa31fb070",
   "metadata": {},
   "outputs": [],
   "source": [
    "new=tfidf.fit_transform(text)"
   ]
  },
  {
   "cell_type": "code",
   "execution_count": 74,
   "id": "a92d72f0-68f0-49c8-80d9-8bccc15716a7",
   "metadata": {},
   "outputs": [
    {
     "data": {
      "text/plain": [
       "matrix([[0.        , 0.        , 0.        , 0.61980538, 0.48133417,\n",
       "         0.61980538],\n",
       "        [0.63174505, 0.        , 0.        , 0.4804584 , 0.37311881,\n",
       "         0.4804584 ],\n",
       "        [0.        , 0.65249088, 0.65249088, 0.        , 0.38537163,\n",
       "         0.        ]])"
      ]
     },
     "execution_count": 74,
     "metadata": {},
     "output_type": "execute_result"
    }
   ],
   "source": [
    "new.todense()"
   ]
  },
  {
   "cell_type": "code",
   "execution_count": null,
   "id": "a071a4da-4dc6-4dae-aefe-fd3184b81d94",
   "metadata": {},
   "outputs": [],
   "source": []
  },
  {
   "cell_type": "code",
   "execution_count": null,
   "id": "47bae015-67de-4362-9be5-9c8ca26a0bc7",
   "metadata": {},
   "outputs": [],
   "source": []
  }
 ],
 "metadata": {
  "kernelspec": {
   "display_name": "Python 3 (ipykernel)",
   "language": "python",
   "name": "python3"
  },
  "language_info": {
   "codemirror_mode": {
    "name": "ipython",
    "version": 3
   },
   "file_extension": ".py",
   "mimetype": "text/x-python",
   "name": "python",
   "nbconvert_exporter": "python",
   "pygments_lexer": "ipython3",
   "version": "3.11.7"
  }
 },
 "nbformat": 4,
 "nbformat_minor": 5
}
