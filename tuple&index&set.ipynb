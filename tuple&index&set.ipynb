{
 "cells": [
  {
   "cell_type": "code",
   "execution_count": 1,
   "id": "bf89ad0d-afdc-4b2c-a800-a03c7f3db59c",
   "metadata": {},
   "outputs": [],
   "source": [
    "mytuple = (100, 250, 300, 450, 500, \"Python\", \"Java\", \"C++\")"
   ]
  },
  {
   "cell_type": "code",
   "execution_count": 2,
   "id": "b91f6b7c-6126-46f7-97ad-a765174ac282",
   "metadata": {},
   "outputs": [
    {
     "data": {
      "text/plain": [
       "3"
      ]
     },
     "execution_count": 2,
     "metadata": {},
     "output_type": "execute_result"
    }
   ],
   "source": [
    "(mytuple + (410, 430, 450, 205 * 2, 900 // 2, 445)).count(450)"
   ]
  },
  {
   "cell_type": "code",
   "execution_count": 3,
   "id": "f4fd5290-c932-4239-8600-517d005c3385",
   "metadata": {},
   "outputs": [
    {
     "data": {
      "text/plain": [
       "(250, 500, 'C++')"
      ]
     },
     "execution_count": 3,
     "metadata": {},
     "output_type": "execute_result"
    }
   ],
   "source": [
    "mytuple[1::3]"
   ]
  },
  {
   "cell_type": "code",
   "execution_count": 4,
   "id": "68688b57-24f8-4e48-9e5f-f6f91be7973a",
   "metadata": {},
   "outputs": [
    {
     "data": {
      "text/plain": [
       "1"
      ]
     },
     "execution_count": 4,
     "metadata": {},
     "output_type": "execute_result"
    }
   ],
   "source": [
    "mytuple.index(250)"
   ]
  },
  {
   "cell_type": "code",
   "execution_count": 1,
   "id": "50cae898-085b-4694-b039-049ca26d174b",
   "metadata": {},
   "outputs": [
    {
     "name": "stdout",
     "output_type": "stream",
     "text": [
      "['cat', 'bird', 'cow']\n"
     ]
    }
   ],
   "source": [
    "animals =['dog', 'cat', 'bird', 'cow']\n",
    "print(animals[1:4])"
   ]
  },
  {
   "cell_type": "code",
   "execution_count": 2,
   "id": "3a054f40-68db-4480-aca2-9d969c932a81",
   "metadata": {},
   "outputs": [
    {
     "name": "stdout",
     "output_type": "stream",
     "text": [
      "['bird', 'cow']\n"
     ]
    }
   ],
   "source": [
    "animals =['cat', 'dog', 'bird', 'cow']\n",
    "print(animals[2:4])"
   ]
  },
  {
   "cell_type": "code",
   "execution_count": 3,
   "id": "8e723b0a-95ec-4e96-ab80-610383609155",
   "metadata": {},
   "outputs": [
    {
     "name": "stdout",
     "output_type": "stream",
     "text": [
      "['dog', 'cat', 'bird']\n"
     ]
    }
   ],
   "source": [
    "animals =['dog', 'cat', 'bird', 'cow']\n",
    "print(animals[0:3])"
   ]
  },
  {
   "cell_type": "code",
   "execution_count": 4,
   "id": "e943db4d-b20c-4f0a-9076-6881d3034b63",
   "metadata": {},
   "outputs": [
    {
     "name": "stdout",
     "output_type": "stream",
     "text": [
      "['blue']\n"
     ]
    }
   ],
   "source": [
    "colors = ['red', 'green', 'blue', 'yellow']\n",
    "print(colors[2:3])"
   ]
  },
  {
   "cell_type": "code",
   "execution_count": 5,
   "id": "391c2227-c005-4dc3-9419-9d3e1c1d3e13",
   "metadata": {},
   "outputs": [
    {
     "name": "stdout",
     "output_type": "stream",
     "text": [
      "['€', '¥']\n"
     ]
    }
   ],
   "source": [
    "c = ['$', '£', '€', '¥']\n",
    "print(c[-2:])"
   ]
  },
  {
   "cell_type": "code",
   "execution_count": 6,
   "id": "a0c1b6f8-c739-4238-8c79-506bf3d4cf59",
   "metadata": {},
   "outputs": [
    {
     "name": "stdout",
     "output_type": "stream",
     "text": [
      "['£', '€']\n"
     ]
    }
   ],
   "source": [
    "c = ['$', '£', '€', '¥']\n",
    "print(c[-3:-1])"
   ]
  },
  {
   "cell_type": "code",
   "execution_count": 7,
   "id": "79281951-f561-4886-87b6-daa4f7b2b865",
   "metadata": {},
   "outputs": [
    {
     "name": "stdout",
     "output_type": "stream",
     "text": [
      "['£', '€']\n"
     ]
    }
   ],
   "source": [
    "c = ['$', '£', '€', '¥']\n",
    "print(c[1:-1])"
   ]
  },
  {
   "cell_type": "code",
   "execution_count": 8,
   "id": "e7f9226d-97f0-4388-9210-28bfd19894e1",
   "metadata": {},
   "outputs": [
    {
     "name": "stdout",
     "output_type": "stream",
     "text": [
      "bike\n"
     ]
    }
   ],
   "source": [
    "vehicle = 'motorbike'\n",
    "print(vehicle[-4:])"
   ]
  },
  {
   "cell_type": "code",
   "execution_count": 9,
   "id": "203b6cc1-eee3-4699-99d5-264b2e889c06",
   "metadata": {},
   "outputs": [
    {
     "ename": "TypeError",
     "evalue": "'str' object does not support item assignment",
     "output_type": "error",
     "traceback": [
      "\u001b[0;31m---------------------------------------------------------------------------\u001b[0m",
      "\u001b[0;31mTypeError\u001b[0m                                 Traceback (most recent call last)",
      "Cell \u001b[0;32mIn[9], line 2\u001b[0m\n\u001b[1;32m      1\u001b[0m vehicle \u001b[38;5;241m=\u001b[39m \u001b[38;5;124m'\u001b[39m\u001b[38;5;124mairplane\u001b[39m\u001b[38;5;124m'\u001b[39m\n\u001b[0;32m----> 2\u001b[0m vehicle[:\u001b[38;5;241m3\u001b[39m] \u001b[38;5;241m=\u001b[39m \u001b[38;5;124m'\u001b[39m\u001b[38;5;124mwater\u001b[39m\u001b[38;5;124m'\u001b[39m\n\u001b[1;32m      3\u001b[0m \u001b[38;5;28mprint\u001b[39m(vehicle)\n",
      "\u001b[0;31mTypeError\u001b[0m: 'str' object does not support item assignment"
     ]
    }
   ],
   "source": [
    "vehicle = 'airplane'\n",
    "vehicle[:3] = 'water'\n",
    "print(vehicle)"
   ]
  },
  {
   "cell_type": "code",
   "execution_count": 10,
   "id": "ec2276bf-6513-4d52-94e4-31aa0347efb5",
   "metadata": {},
   "outputs": [],
   "source": [
    "c=[\"gff\",6,9.8]"
   ]
  },
  {
   "cell_type": "code",
   "execution_count": 11,
   "id": "cd2524bc-69ef-4097-a888-b1005df81272",
   "metadata": {},
   "outputs": [
    {
     "name": "stdout",
     "output_type": "stream",
     "text": [
      "<class 'list'>\n"
     ]
    }
   ],
   "source": [
    "print(type(c))"
   ]
  },
  {
   "cell_type": "code",
   "execution_count": 5,
   "id": "d7c06bbc-193a-4b12-b0e0-1a6d38e177f9",
   "metadata": {},
   "outputs": [],
   "source": [
    "msg=',,_,,end,,_,,'"
   ]
  },
  {
   "cell_type": "code",
   "execution_count": 6,
   "id": "08ae56b3-924e-43f2-9171-244562ab5d7f",
   "metadata": {},
   "outputs": [
    {
     "data": {
      "text/plain": [
       "'_,,end,,_,,'"
      ]
     },
     "execution_count": 6,
     "metadata": {},
     "output_type": "execute_result"
    }
   ],
   "source": [
    "msg.lstrip(',')"
   ]
  },
  {
   "cell_type": "code",
   "execution_count": 7,
   "id": "048ad01d-9725-4ced-8da5-aee8e7d401cd",
   "metadata": {},
   "outputs": [],
   "source": [
    "msg=\"Cat in a hat\""
   ]
  },
  {
   "cell_type": "code",
   "execution_count": 8,
   "id": "aa81285b-3a41-48be-b6d3-ec1d96b6bb57",
   "metadata": {},
   "outputs": [
    {
     "data": {
      "text/plain": [
       "'Ckt in k hat'"
      ]
     },
     "execution_count": 8,
     "metadata": {},
     "output_type": "execute_result"
    }
   ],
   "source": [
    "msg.replace('a','k',2)"
   ]
  },
  {
   "cell_type": "code",
   "execution_count": 9,
   "id": "8e8ec224-4efb-4c96-ab2f-1f5b63ac2ab7",
   "metadata": {},
   "outputs": [],
   "source": [
    "msg=\"abhishek verma\""
   ]
  },
  {
   "cell_type": "code",
   "execution_count": 10,
   "id": "d36dbabb-b68c-4249-a14f-a12066a743c7",
   "metadata": {},
   "outputs": [
    {
     "name": "stdout",
     "output_type": "stream",
     "text": [
      "abhi\n"
     ]
    }
   ],
   "source": [
    "print(msg[:4])"
   ]
  },
  {
   "cell_type": "code",
   "execution_count": 11,
   "id": "33bf1865-6ded-42a0-9119-5fb6606e09e2",
   "metadata": {},
   "outputs": [
    {
     "data": {
      "text/plain": [
       "'abhi'"
      ]
     },
     "execution_count": 11,
     "metadata": {},
     "output_type": "execute_result"
    }
   ],
   "source": [
    "msg[:4]"
   ]
  },
  {
   "cell_type": "code",
   "execution_count": 12,
   "id": "873a8c00-0403-4feb-a8bf-b99040270c29",
   "metadata": {},
   "outputs": [
    {
     "data": {
      "text/plain": [
       "' verma'"
      ]
     },
     "execution_count": 12,
     "metadata": {},
     "output_type": "execute_result"
    }
   ],
   "source": [
    "msg[8:]"
   ]
  },
  {
   "cell_type": "code",
   "execution_count": 13,
   "id": "27888395-28cb-4201-a606-a0020a6b4c51",
   "metadata": {},
   "outputs": [
    {
     "name": "stdin",
     "output_type": "stream",
     "text": [
      "enter pin  22\n"
     ]
    }
   ],
   "source": [
    "pin=int(input(\"enter pin \"))"
   ]
  },
  {
   "cell_type": "code",
   "execution_count": 14,
   "id": "24e165e5-a446-4946-ba85-e8dcb262ef70",
   "metadata": {},
   "outputs": [
    {
     "name": "stdin",
     "output_type": "stream",
     "text": [
      " 44\n"
     ]
    }
   ],
   "source": [
    "amount=input()"
   ]
  },
  {
   "cell_type": "code",
   "execution_count": 15,
   "id": "bec05ad8-56a5-45a2-9de7-fc50225e8791",
   "metadata": {},
   "outputs": [
    {
     "ename": "TypeError",
     "evalue": "unsupported operand type(s) for +: 'int' and 'str'",
     "output_type": "error",
     "traceback": [
      "\u001b[0;31m---------------------------------------------------------------------------\u001b[0m",
      "\u001b[0;31mTypeError\u001b[0m                                 Traceback (most recent call last)",
      "Cell \u001b[0;32mIn[15], line 1\u001b[0m\n\u001b[0;32m----> 1\u001b[0m pin\u001b[38;5;241m+\u001b[39mamount\n",
      "\u001b[0;31mTypeError\u001b[0m: unsupported operand type(s) for +: 'int' and 'str'"
     ]
    }
   ],
   "source": [
    "pin+amount"
   ]
  },
  {
   "cell_type": "code",
   "execution_count": 16,
   "id": "8ca648ca-c261-44d1-8f8d-33965414ea98",
   "metadata": {},
   "outputs": [],
   "source": [
    "x=abs(-+-+-10)"
   ]
  },
  {
   "cell_type": "code",
   "execution_count": 17,
   "id": "0ee93963-cfd8-43b1-ba06-b5bee1e2dcec",
   "metadata": {},
   "outputs": [
    {
     "data": {
      "text/plain": [
       "10"
      ]
     },
     "execution_count": 17,
     "metadata": {},
     "output_type": "execute_result"
    }
   ],
   "source": [
    "x"
   ]
  },
  {
   "cell_type": "code",
   "execution_count": 1,
   "id": "23f9ee7d-3cf1-424b-af08-905ea3cf86ee",
   "metadata": {},
   "outputs": [],
   "source": [
    "var={11,9,17,1}   #giving answer in assending order with the help of set"
   ]
  },
  {
   "cell_type": "code",
   "execution_count": 2,
   "id": "515f231c-7fc8-4685-a7b7-673f51ec7eb9",
   "metadata": {},
   "outputs": [
    {
     "data": {
      "text/plain": [
       "{1, 9, 11, 17}"
      ]
     },
     "execution_count": 2,
     "metadata": {},
     "output_type": "execute_result"
    }
   ],
   "source": [
    "var"
   ]
  },
  {
   "cell_type": "code",
   "execution_count": 3,
   "id": "59304c94-c8c8-46c9-a76f-2ba3c8d99f9a",
   "metadata": {},
   "outputs": [],
   "source": [
    "var.add(15)"
   ]
  },
  {
   "cell_type": "code",
   "execution_count": 4,
   "id": "cf61cb5a-4393-42f6-81af-b43f13e97b1e",
   "metadata": {},
   "outputs": [
    {
     "data": {
      "text/plain": [
       "{1, 9, 11, 15, 17}"
      ]
     },
     "execution_count": 4,
     "metadata": {},
     "output_type": "execute_result"
    }
   ],
   "source": [
    "var"
   ]
  },
  {
   "cell_type": "code",
   "execution_count": 5,
   "id": "f8535ef3-5a7d-484e-b62b-1fa5813f2820",
   "metadata": {},
   "outputs": [],
   "source": [
    "list1 = [\"Hello\", \"Hi\", \"Greetings\", \"Cheers\", \"Hi\", \"hello\", \"Greetings!\"]"
   ]
  },
  {
   "cell_type": "code",
   "execution_count": 6,
   "id": "11fd9b78-569f-41cb-912d-d996ff34f5cb",
   "metadata": {},
   "outputs": [
    {
     "data": {
      "text/plain": [
       "{'Cheers', 'Greetings', 'Greetings!', 'Hello', 'Hi', 'hello'}"
      ]
     },
     "execution_count": 6,
     "metadata": {},
     "output_type": "execute_result"
    }
   ],
   "source": [
    "set(list1) #converting list into set"
   ]
  },
  {
   "cell_type": "code",
   "execution_count": 1,
   "id": "3543d58b-a2c7-4228-8861-ae6dca88d86e",
   "metadata": {},
   "outputs": [],
   "source": [
    "set1 = {26, 200, 2001, 92, 550, 2001, 338, 92.0, 11}"
   ]
  },
  {
   "cell_type": "code",
   "execution_count": 2,
   "id": "38438580-613a-4db8-ad8b-9a0268afd2ee",
   "metadata": {},
   "outputs": [
    {
     "data": {
      "text/plain": [
       "7"
      ]
     },
     "execution_count": 2,
     "metadata": {},
     "output_type": "execute_result"
    }
   ],
   "source": [
    "len(set1) #repetition not considered"
   ]
  },
  {
   "cell_type": "code",
   "execution_count": 3,
   "id": "eb0ac93d-db4d-428a-9a1b-f8edfcc1d66d",
   "metadata": {},
   "outputs": [
    {
     "data": {
      "text/plain": [
       "True"
      ]
     },
     "execution_count": 3,
     "metadata": {},
     "output_type": "execute_result"
    }
   ],
   "source": [
    "(11 in set1)"
   ]
  },
  {
   "cell_type": "code",
   "execution_count": 4,
   "id": "e6bcc3fd-5c53-4959-a1db-8713ed1f4de3",
   "metadata": {},
   "outputs": [
    {
     "data": {
      "text/plain": [
       "True"
      ]
     },
     "execution_count": 4,
     "metadata": {},
     "output_type": "execute_result"
    }
   ],
   "source": [
    "(52/2 in set1)"
   ]
  },
  {
   "cell_type": "code",
   "execution_count": 5,
   "id": "001aa3b6-ef3f-48e3-88e1-8441977581b3",
   "metadata": {},
   "outputs": [],
   "source": [
    "set1.add(600)"
   ]
  },
  {
   "cell_type": "code",
   "execution_count": 6,
   "id": "28788b3c-69a6-42b0-b343-12c2032ad7bf",
   "metadata": {},
   "outputs": [
    {
     "data": {
      "text/plain": [
       "{11, 26, 92, 200, 338, 550, 600, 2001}"
      ]
     },
     "execution_count": 6,
     "metadata": {},
     "output_type": "execute_result"
    }
   ],
   "source": [
    "set1"
   ]
  },
  {
   "cell_type": "code",
   "execution_count": 7,
   "id": "f2f706e7-c9db-4f53-9d40-7de558ff8490",
   "metadata": {},
   "outputs": [],
   "source": [
    "set1.remove(550)"
   ]
  },
  {
   "cell_type": "code",
   "execution_count": 8,
   "id": "76c782aa-e271-4ec1-a47a-41f293ac3222",
   "metadata": {},
   "outputs": [
    {
     "data": {
      "text/plain": [
       "{11, 26, 92, 200, 338, 600, 2001}"
      ]
     },
     "execution_count": 8,
     "metadata": {},
     "output_type": "execute_result"
    }
   ],
   "source": [
    "set1"
   ]
  },
  {
   "cell_type": "code",
   "execution_count": 9,
   "id": "8e36c196-9d38-4787-a79e-7e26b8e71fbd",
   "metadata": {},
   "outputs": [],
   "source": [
    "set1 = {26, 200, 2001, 92, 550}\n",
    "set2 = {334, 92, 29, 650, 550, 25, 1002}"
   ]
  },
  {
   "cell_type": "code",
   "execution_count": 10,
   "id": "4309a87d-069a-4d36-bb4e-e0403a4b8499",
   "metadata": {},
   "outputs": [
    {
     "data": {
      "text/plain": [
       "{25, 29, 334, 650, 1002}"
      ]
     },
     "execution_count": 10,
     "metadata": {},
     "output_type": "execute_result"
    }
   ],
   "source": [
    "set2.difference(set1)\n",
    "#set1.difference(set2)\n",
    "# set1.intersect(set2)"
   ]
  },
  {
   "cell_type": "code",
   "execution_count": 11,
   "id": "1d1a56ee-0e97-4645-9d9e-3be5e5902a38",
   "metadata": {},
   "outputs": [
    {
     "data": {
      "text/plain": [
       "{26, 200, 2001}"
      ]
     },
     "execution_count": 11,
     "metadata": {},
     "output_type": "execute_result"
    }
   ],
   "source": [
    "#set2.difference(set1)\n",
    "set1.difference(set2)\n",
    "# set1.intersect(set2)"
   ]
  },
  {
   "cell_type": "code",
   "execution_count": 13,
   "id": "034ddb22-8849-4bdf-976c-e129f772d850",
   "metadata": {},
   "outputs": [
    {
     "ename": "AttributeError",
     "evalue": "'set' object has no attribute 'intersect'",
     "output_type": "error",
     "traceback": [
      "\u001b[0;31m---------------------------------------------------------------------------\u001b[0m",
      "\u001b[0;31mAttributeError\u001b[0m                            Traceback (most recent call last)",
      "Cell \u001b[0;32mIn[13], line 3\u001b[0m\n\u001b[1;32m      1\u001b[0m \u001b[38;5;66;03m#set2.difference(set1)\u001b[39;00m\n\u001b[1;32m      2\u001b[0m \u001b[38;5;66;03m#set1.difference(set2)\u001b[39;00m\n\u001b[0;32m----> 3\u001b[0m set1\u001b[38;5;241m.\u001b[39mintersect(set2)\n",
      "\u001b[0;31mAttributeError\u001b[0m: 'set' object has no attribute 'intersect'"
     ]
    }
   ],
   "source": [
    "#set2.difference(set1)\n",
    "#set1.difference(set2)\n",
    "set1.intersect(set2)"
   ]
  },
  {
   "cell_type": "code",
   "execution_count": 14,
   "id": "be9fe65d-ecc7-4322-8bbf-c23a925f6a98",
   "metadata": {},
   "outputs": [],
   "source": [
    "var=(8)"
   ]
  },
  {
   "cell_type": "code",
   "execution_count": 15,
   "id": "e3e8c2bb-8ab0-4e2f-b160-e98fea6d4bd2",
   "metadata": {},
   "outputs": [
    {
     "data": {
      "text/plain": [
       "int"
      ]
     },
     "execution_count": 15,
     "metadata": {},
     "output_type": "execute_result"
    }
   ],
   "source": [
    "type(var)"
   ]
  },
  {
   "cell_type": "code",
   "execution_count": null,
   "id": "e7aac918-9919-493f-85f5-447d98c0dcca",
   "metadata": {},
   "outputs": [],
   "source": []
  }
 ],
 "metadata": {
  "kernelspec": {
   "display_name": "Python 3 (ipykernel)",
   "language": "python",
   "name": "python3"
  },
  "language_info": {
   "codemirror_mode": {
    "name": "ipython",
    "version": 3
   },
   "file_extension": ".py",
   "mimetype": "text/x-python",
   "name": "python",
   "nbconvert_exporter": "python",
   "pygments_lexer": "ipython3",
   "version": "3.11.7"
  }
 },
 "nbformat": 4,
 "nbformat_minor": 5
}
