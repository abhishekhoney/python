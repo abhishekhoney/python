{
 "cells": [
  {
   "cell_type": "code",
   "execution_count": 2,
   "id": "d33dc5a0-1da6-4020-80b8-556bbdaa7dad",
   "metadata": {},
   "outputs": [],
   "source": [
    "import spacy\n",
    "nlp = spacy.load('en_core_web_sm')"
   ]
  },
  {
   "cell_type": "code",
   "execution_count": 3,
   "id": "f4105535-7290-4ed9-bfb8-2aacc9d43e6d",
   "metadata": {},
   "outputs": [
    {
     "name": "stdout",
     "output_type": "stream",
     "text": [
      "{'always', 'then', 'nevertheless', 'from', 'full', 'were', 'under', 'thereafter', '’ve', 'once', 'fifty', 're', 'keep', 'also', 'about', 'hundred', 'five', 'put', '‘ll', 'go', 'at', 'through', 'take', 'yours', 'in', 'six', 'anyhow', 'into', 'very', 'nowhere', 'no', 'afterwards', 'empty', 'along', 'using', 'everything', 'whenever', 'except', 'many', 'wherever', 'two', 'wherein', 'until', 'her', 'the', 'may', 'thence', 'last', 'whether', '‘d', 'himself', 'up', 'us', 'a', 'among', 'is', 'around', 'beyond', 'eight', 'never', 'nobody', 'beforehand', 'already', 'seem', 'myself', 'whither', 'why', 'back', 'should', 'this', 'anyone', 'thereby', 'every', 'behind', 'herein', 'ours', 'first', 'can', 'doing', 'via', 'has', 'when', 'herself', 'least', 'might', 'you', 'n’t', 'are', 'not', 'per', 'both', 'he', 'get', \"'d\", 'whose', 'seeming', 'am', 'much', 'somehow', 'noone', 'becoming', 'move', 'others', 'does', 'enough', 'well', 'another', 'namely', 'elsewhere', 'serious', 'hereupon', 'thru', 'sixty', 'over', 'seemed', 'unless', 'our', 'former', 'neither', 'without', 'further', '’ll', 'onto', 'while', 'something', 'side', 'yet', 'such', 'be', 'whatever', 'forty', 'though', 'must', 'one', 'upon', 'together', 'sometime', 'amount', 'here', 'several', 'his', 'for', 'nine', 'alone', 'down', 'whom', 'perhaps', 'meanwhile', 'me', 'which', 'various', 'below', 'four', 'yourselves', 'besides', 'fifteen', 'other', 'rather', 'their', 'everywhere', \"'ll\", 'after', 'where', 'name', \"'ve\", \"n't\", 'again', 'done', 'part', 'moreover', 'would', 'or', 'please', 'cannot', '‘s', 'becomes', 'quite', 'whereupon', 'they', 'latter', 'n‘t', \"'m\", 'most', 'than', '’m', 'become', 'otherwise', 'since', 'mostly', 'will', 'own', 'bottom', 'anywhere', 'sometimes', 'really', 'how', 'toward', 'now', 'during', 'we', 'on', 'itself', 'few', 'show', 'have', 'do', 'each', 'eleven', 'still', 'that', 'top', 'mine', 'him', 'either', 'hereby', 'whole', 'thereupon', 'ever', 'made', 'to', 'somewhere', 'ca', 'seems', 'regarding', 'make', 'and', 'hence', 'against', 'throughout', 'formerly', 'however', 'who', 'those', 'yourself', 'even', 'by', 'anything', 'of', 'see', 'because', 'too', 'same', 'so', 'ourselves', 'three', 'between', 'if', 'everyone', 'its', 'some', 'whoever', 'less', 'say', 'before', 'above', 'i', 'been', 'across', 'hereafter', 'therein', '‘re', 'often', 'next', 'whence', 'none', 'all', 'only', 'but', 'had', 'within', 'used', 'became', 'third', 'being', 'nothing', 'an', 'someone', 'give', 'ten', 'whereafter', 'as', 'it', 'twenty', 'twelve', 'any', 'my', 'hers', 'with', 'more', '‘ve', 'she', 'call', 'what', '’s', \"'re\", 'towards', 'whereby', 'therefore', 'could', 'indeed', 'amongst', 'beside', '‘m', 'out', 'although', 'just', 'anyway', '’d', 'nor', 'your', 'else', 'these', 'off', 'thus', 'did', 'themselves', 'was', 'front', 'due', 'whereas', 'there', 'latterly', 'them', 'almost', '’re', \"'s\"}\n"
     ]
    }
   ],
   "source": [
    "print(nlp.Defaults.stop_words)"
   ]
  },
  {
   "cell_type": "code",
   "execution_count": 4,
   "id": "9c9a4d9b-c31f-485c-a069-a65db74e6aa7",
   "metadata": {},
   "outputs": [
    {
     "data": {
      "text/plain": [
       "326"
      ]
     },
     "execution_count": 4,
     "metadata": {},
     "output_type": "execute_result"
    }
   ],
   "source": [
    "len(nlp.Defaults.stop_words)"
   ]
  },
  {
   "cell_type": "code",
   "execution_count": 5,
   "id": "89da73a2-866f-4e8b-bbcd-7da3ab98cfbf",
   "metadata": {},
   "outputs": [
    {
     "data": {
      "text/plain": [
       "True"
      ]
     },
     "execution_count": 5,
     "metadata": {},
     "output_type": "execute_result"
    }
   ],
   "source": [
    "nlp.vocab['always'].is_stop"
   ]
  },
  {
   "cell_type": "code",
   "execution_count": 6,
   "id": "c6a01224-815b-489e-a4bb-b87ec2dc45fd",
   "metadata": {},
   "outputs": [
    {
     "data": {
      "text/plain": [
       "False"
      ]
     },
     "execution_count": 6,
     "metadata": {},
     "output_type": "execute_result"
    }
   ],
   "source": [
    "nlp.vocab['finance'].is_stop"
   ]
  },
  {
   "cell_type": "code",
   "execution_count": 7,
   "id": "7c87538e-7111-47da-beed-ec3f91a63714",
   "metadata": {},
   "outputs": [
    {
     "data": {
      "text/plain": [
       "True"
      ]
     },
     "execution_count": 7,
     "metadata": {},
     "output_type": "execute_result"
    }
   ],
   "source": [
    "nlp.vocab['not'].is_stop"
   ]
  },
  {
   "cell_type": "code",
   "execution_count": 8,
   "id": "f82dd406-77e2-4150-9a4f-0ede54fa2842",
   "metadata": {},
   "outputs": [
    {
     "data": {
      "text/plain": [
       "False"
      ]
     },
     "execution_count": 8,
     "metadata": {},
     "output_type": "execute_result"
    }
   ],
   "source": [
    "nlp.vocab['yes'].is_stop"
   ]
  },
  {
   "cell_type": "code",
   "execution_count": 9,
   "id": "07027d10-be87-4af8-a067-2a4f56a3f097",
   "metadata": {},
   "outputs": [],
   "source": [
    "nlp.Defaults.stop_words.add('asdf')"
   ]
  },
  {
   "cell_type": "code",
   "execution_count": 10,
   "id": "008778e3-0c0c-4c96-bf08-9d2ff3604ede",
   "metadata": {},
   "outputs": [
    {
     "data": {
      "text/plain": [
       "True"
      ]
     },
     "execution_count": 10,
     "metadata": {},
     "output_type": "execute_result"
    }
   ],
   "source": [
    "nlp.vocab['asdf'].is_stop"
   ]
  },
  {
   "cell_type": "code",
   "execution_count": 11,
   "id": "977890aa-0777-45be-b685-3e51ec3a6a25",
   "metadata": {},
   "outputs": [
    {
     "data": {
      "text/plain": [
       "False"
      ]
     },
     "execution_count": 11,
     "metadata": {},
     "output_type": "execute_result"
    }
   ],
   "source": [
    "nlp.vocab['Abhishek'].is_stop"
   ]
  },
  {
   "cell_type": "code",
   "execution_count": 12,
   "id": "883c8def-b538-4948-96ef-4b39b54cc500",
   "metadata": {},
   "outputs": [],
   "source": [
    "nlp.vocab['Abhishek'].is_stop=True"
   ]
  },
  {
   "cell_type": "code",
   "execution_count": 13,
   "id": "7f860eb6-09f9-4787-943d-f7a4e7d55852",
   "metadata": {},
   "outputs": [
    {
     "data": {
      "text/plain": [
       "True"
      ]
     },
     "execution_count": 13,
     "metadata": {},
     "output_type": "execute_result"
    }
   ],
   "source": [
    "nlp.vocab['Abhishek'].is_stop"
   ]
  },
  {
   "cell_type": "code",
   "execution_count": 14,
   "id": "18659fc8-a083-4fbd-a68d-9c0e6450dba3",
   "metadata": {},
   "outputs": [
    {
     "data": {
      "text/plain": [
       "327"
      ]
     },
     "execution_count": 14,
     "metadata": {},
     "output_type": "execute_result"
    }
   ],
   "source": [
    "len(nlp.Defaults.stop_words)"
   ]
  },
  {
   "cell_type": "code",
   "execution_count": 15,
   "id": "79332134-8357-4846-9a6f-14488d9d62cc",
   "metadata": {},
   "outputs": [
    {
     "data": {
      "text/plain": [
       "True"
      ]
     },
     "execution_count": 15,
     "metadata": {},
     "output_type": "execute_result"
    }
   ],
   "source": [
    "nlp.vocab['not'].is_stop"
   ]
  },
  {
   "cell_type": "code",
   "execution_count": 16,
   "id": "52e7f993-1a80-4a8e-a8d0-3b873ce42d4e",
   "metadata": {},
   "outputs": [],
   "source": [
    "nlp.Defaults.stop_words.remove('not')"
   ]
  },
  {
   "cell_type": "code",
   "execution_count": 17,
   "id": "00e81f1a-b7a8-46a4-912a-dd492a230049",
   "metadata": {},
   "outputs": [
    {
     "data": {
      "text/plain": [
       "True"
      ]
     },
     "execution_count": 17,
     "metadata": {},
     "output_type": "execute_result"
    }
   ],
   "source": [
    "nlp.vocab['not'].is_stop"
   ]
  },
  {
   "cell_type": "code",
   "execution_count": 18,
   "id": "ac19b691-e3f9-4f62-b6fd-960f669cc1e9",
   "metadata": {},
   "outputs": [],
   "source": [
    "nlp.Defaults.stop_words.remove('no')"
   ]
  },
  {
   "cell_type": "code",
   "execution_count": 19,
   "id": "e1b15f6f-56d2-437b-b7a7-709d6fd08aba",
   "metadata": {},
   "outputs": [
    {
     "data": {
      "text/plain": [
       "False"
      ]
     },
     "execution_count": 19,
     "metadata": {},
     "output_type": "execute_result"
    }
   ],
   "source": [
    "nlp.vocab['no'].is_stop"
   ]
  },
  {
   "cell_type": "code",
   "execution_count": 20,
   "id": "e0103681-3fe6-47d7-a8fa-86a2858c3c95",
   "metadata": {},
   "outputs": [],
   "source": [
    "nlp.Defaults.stop_words.add('no')"
   ]
  },
  {
   "cell_type": "code",
   "execution_count": 21,
   "id": "5cd5ce9b-26f2-4bb0-b2ac-caffe9f8f123",
   "metadata": {},
   "outputs": [
    {
     "data": {
      "text/plain": [
       "False"
      ]
     },
     "execution_count": 21,
     "metadata": {},
     "output_type": "execute_result"
    }
   ],
   "source": [
    "nlp.vocab['no'].is_stop"
   ]
  },
  {
   "cell_type": "code",
   "execution_count": 22,
   "id": "0e03850f-912e-45fc-9722-7735e1736cc1",
   "metadata": {},
   "outputs": [
    {
     "data": {
      "text/plain": [
       "326"
      ]
     },
     "execution_count": 22,
     "metadata": {},
     "output_type": "execute_result"
    }
   ],
   "source": [
    "len(nlp.Defaults.stop_words)"
   ]
  },
  {
   "cell_type": "code",
   "execution_count": null,
   "id": "3e0c9b30-03be-4ff7-ad40-e1b90ea10e59",
   "metadata": {},
   "outputs": [],
   "source": []
  }
 ],
 "metadata": {
  "kernelspec": {
   "display_name": "Python 3 (ipykernel)",
   "language": "python",
   "name": "python3"
  },
  "language_info": {
   "codemirror_mode": {
    "name": "ipython",
    "version": 3
   },
   "file_extension": ".py",
   "mimetype": "text/x-python",
   "name": "python",
   "nbconvert_exporter": "python",
   "pygments_lexer": "ipython3",
   "version": "3.11.7"
  }
 },
 "nbformat": 4,
 "nbformat_minor": 5
}
