{
 "cells": [
  {
   "cell_type": "code",
   "execution_count": 1,
   "id": "547849f9-3645-4568-a90e-47f05d26a8e2",
   "metadata": {},
   "outputs": [],
   "source": [
    "var=[3,443,12,896,98]"
   ]
  },
  {
   "cell_type": "code",
   "execution_count": 2,
   "id": "31f27f50-3278-4702-a2a6-d400559d1649",
   "metadata": {},
   "outputs": [],
   "source": [
    "var.append(99)"
   ]
  },
  {
   "cell_type": "code",
   "execution_count": 3,
   "id": "6f979e54-4c56-45a8-8673-fbbf3d0237e6",
   "metadata": {},
   "outputs": [
    {
     "data": {
      "text/plain": [
       "[3, 443, 12, 896, 98, 99]"
      ]
     },
     "execution_count": 3,
     "metadata": {},
     "output_type": "execute_result"
    }
   ],
   "source": [
    "var"
   ]
  },
  {
   "cell_type": "code",
   "execution_count": 4,
   "id": "e8154220-c857-489c-ae10-df3e4db18560",
   "metadata": {},
   "outputs": [
    {
     "data": {
      "text/plain": [
       "[3, 443, 12, 896, 98, 55]"
      ]
     },
     "execution_count": 4,
     "metadata": {},
     "output_type": "execute_result"
    }
   ],
   "source": [
    "var=[3,443,12,896,98]\n",
    "var.append(55)\n",
    "var"
   ]
  },
  {
   "cell_type": "code",
   "execution_count": 5,
   "id": "2e42c52d-5c65-4a45-8194-e2a1d4522eda",
   "metadata": {},
   "outputs": [
    {
     "name": "stdout",
     "output_type": "stream",
     "text": [
      "[3, 443, 12, 896, 98, 55]\n"
     ]
    }
   ],
   "source": [
    "print(var)"
   ]
  },
  {
   "cell_type": "code",
   "execution_count": 6,
   "id": "30c42e38-6a86-4f5b-8e12-bb189ef5a708",
   "metadata": {},
   "outputs": [
    {
     "data": {
      "text/plain": [
       "[3, 443, 12, 896, 98, 55, 100]"
      ]
     },
     "execution_count": 6,
     "metadata": {},
     "output_type": "execute_result"
    }
   ],
   "source": [
    "var.append(100)\n",
    "var"
   ]
  },
  {
   "cell_type": "code",
   "execution_count": 7,
   "id": "7822caa1-9fd5-4ad0-9b2c-a347f3e524a1",
   "metadata": {},
   "outputs": [],
   "source": [
    "mylist=[\"europe\",\"asia\",\"north\",10,20]"
   ]
  },
  {
   "cell_type": "code",
   "execution_count": 8,
   "id": "b3e2988b-5ad4-46bf-8775-9b9ef7da0d82",
   "metadata": {},
   "outputs": [],
   "source": [
    "mylist.append([\"b\",\"T\",\"c\"])"
   ]
  },
  {
   "cell_type": "code",
   "execution_count": 9,
   "id": "bf9e1019-3094-42c9-8933-c8cd6d86252a",
   "metadata": {},
   "outputs": [
    {
     "data": {
      "text/plain": [
       "['europe', 'asia', 'north', 10, 20, ['b', 'T', 'c']]"
      ]
     },
     "execution_count": 9,
     "metadata": {},
     "output_type": "execute_result"
    }
   ],
   "source": [
    "mylist"
   ]
  },
  {
   "cell_type": "code",
   "execution_count": 25,
   "id": "1cbe460b-73af-4cbd-a029-aee5d04221bc",
   "metadata": {},
   "outputs": [
    {
     "data": {
      "text/plain": [
       "'c'"
      ]
     },
     "execution_count": 25,
     "metadata": {},
     "output_type": "execute_result"
    }
   ],
   "source": [
    "mylist[5][1]"
   ]
  },
  {
   "cell_type": "code",
   "execution_count": 26,
   "id": "bc171bfd-ee20-4659-87ee-7287d7a9e511",
   "metadata": {},
   "outputs": [
    {
     "data": {
      "text/plain": [
       "[5, 7, 1, 5, 7, 1]"
      ]
     },
     "execution_count": 26,
     "metadata": {},
     "output_type": "execute_result"
    }
   ],
   "source": [
    "var=[5,7,1]\n",
    "var+var"
   ]
  },
  {
   "cell_type": "code",
   "execution_count": 12,
   "id": "600a7dee-e8a4-4d02-853a-aaddadfcd55c",
   "metadata": {},
   "outputs": [
    {
     "ename": "ValueError",
     "evalue": "not enough values to unpack (expected 4, got 3)",
     "output_type": "error",
     "traceback": [
      "\u001b[0;31m---------------------------------------------------------------------------\u001b[0m",
      "\u001b[0;31mValueError\u001b[0m                                Traceback (most recent call last)",
      "Cell \u001b[0;32mIn[12], line 1\u001b[0m\n\u001b[0;32m----> 1\u001b[0m a,b,c,d\u001b[38;5;241m=\u001b[39mvar\n",
      "\u001b[0;31mValueError\u001b[0m: not enough values to unpack (expected 4, got 3)"
     ]
    }
   ],
   "source": [
    "a,b,c,d=var"
   ]
  },
  {
   "cell_type": "code",
   "execution_count": 13,
   "id": "a5046a14-7fb1-4bf1-a00b-37dffd0f1b92",
   "metadata": {},
   "outputs": [
    {
     "data": {
      "text/plain": [
       "[5, 7, 1]"
      ]
     },
     "execution_count": 13,
     "metadata": {},
     "output_type": "execute_result"
    }
   ],
   "source": [
    "var"
   ]
  },
  {
   "cell_type": "code",
   "execution_count": 14,
   "id": "f4394125-4ae4-4659-b005-ab13660fc6e4",
   "metadata": {},
   "outputs": [],
   "source": [
    "var1=[8,9,10,[\"d\",\"y\",\"v\"],6,57,78,23,83]"
   ]
  },
  {
   "cell_type": "code",
   "execution_count": 15,
   "id": "ba0f476e-869a-46b9-bda2-9d0976d74ba6",
   "metadata": {},
   "outputs": [],
   "source": [
    "var2=var1[:]"
   ]
  },
  {
   "cell_type": "code",
   "execution_count": 28,
   "id": "0de2368e-4f73-49a3-9c56-bc0e9ceb218a",
   "metadata": {},
   "outputs": [
    {
     "data": {
      "text/plain": [
       "[8, 9, 10, ['d', 'y', 'v'], 6, 57, 78]"
      ]
     },
     "execution_count": 28,
     "metadata": {},
     "output_type": "execute_result"
    }
   ],
   "source": [
    "var2"
   ]
  },
  {
   "cell_type": "code",
   "execution_count": 29,
   "id": "324a43a1-3974-40c8-871f-4e8886097dc8",
   "metadata": {},
   "outputs": [
    {
     "data": {
      "text/plain": [
       "78"
      ]
     },
     "execution_count": 29,
     "metadata": {},
     "output_type": "execute_result"
    }
   ],
   "source": [
    "var2.pop()"
   ]
  },
  {
   "cell_type": "code",
   "execution_count": 30,
   "id": "b7b11179-c671-4afa-947c-50a39b2e098e",
   "metadata": {},
   "outputs": [
    {
     "data": {
      "text/plain": [
       "[8, 9, 10, ['d', 'y', 'v'], 6, 57]"
      ]
     },
     "execution_count": 30,
     "metadata": {},
     "output_type": "execute_result"
    }
   ],
   "source": [
    "var2"
   ]
  },
  {
   "cell_type": "code",
   "execution_count": 19,
   "id": "0fe0b19e-1d0b-4d00-8466-1081448d9c12",
   "metadata": {},
   "outputs": [
    {
     "data": {
      "text/plain": [
       "[10, ['d', 'y', 'v'], 6]"
      ]
     },
     "execution_count": 19,
     "metadata": {},
     "output_type": "execute_result"
    }
   ],
   "source": [
    "var1[2:5]"
   ]
  },
  {
   "cell_type": "code",
   "execution_count": 20,
   "id": "43239296-cb23-4bb8-88ae-e323353b5b39",
   "metadata": {},
   "outputs": [],
   "source": [
    "var1[1]=55"
   ]
  },
  {
   "cell_type": "code",
   "execution_count": 21,
   "id": "e0ee72f6-348f-4c70-94fc-6b3988e0b5b0",
   "metadata": {},
   "outputs": [
    {
     "data": {
      "text/plain": [
       "[8, 55, 10, ['d', 'y', 'v'], 6, 57, 78, 23, 83]"
      ]
     },
     "execution_count": 21,
     "metadata": {},
     "output_type": "execute_result"
    }
   ],
   "source": [
    "var1"
   ]
  },
  {
   "cell_type": "code",
   "execution_count": 22,
   "id": "5f87a6a0-ffa8-4e6c-abfa-15263063e488",
   "metadata": {},
   "outputs": [
    {
     "data": {
      "text/plain": [
       "False"
      ]
     },
     "execution_count": 22,
     "metadata": {},
     "output_type": "execute_result"
    }
   ],
   "source": [
    "var1==var2"
   ]
  },
  {
   "cell_type": "code",
   "execution_count": 23,
   "id": "634f3532-b023-4d69-a1f1-104ca130a711",
   "metadata": {},
   "outputs": [],
   "source": [
    "c=[\"gff\",6,9.8]"
   ]
  },
  {
   "cell_type": "code",
   "execution_count": 24,
   "id": "a78220e2-d08f-4799-ae30-0c52bbd22f48",
   "metadata": {},
   "outputs": [
    {
     "name": "stdout",
     "output_type": "stream",
     "text": [
      "<class 'list'>\n"
     ]
    }
   ],
   "source": [
    "print(type(c))"
   ]
  },
  {
   "cell_type": "code",
   "execution_count": 1,
   "id": "8aedecb8-f1d7-4b4b-93d5-9a7a16f0158d",
   "metadata": {},
   "outputs": [
    {
     "name": "stdout",
     "output_type": "stream",
     "text": [
      "sunrise\n"
     ]
    }
   ],
   "source": [
    "words = [\"rise\", \"sun\", \"glasses\"]\n",
    "print(words[1] + words[0])"
   ]
  },
  {
   "cell_type": "code",
   "execution_count": null,
   "id": "771b4270-850f-4238-bdb6-6f808429aef0",
   "metadata": {},
   "outputs": [],
   "source": []
  },
  {
   "cell_type": "code",
   "execution_count": null,
   "id": "e717f398-c53f-4153-9154-23be640ddde0",
   "metadata": {},
   "outputs": [],
   "source": []
  },
  {
   "cell_type": "code",
   "execution_count": null,
   "id": "6091dffa-7883-4860-8d8a-a4ae53c55a5d",
   "metadata": {},
   "outputs": [],
   "source": []
  },
  {
   "cell_type": "code",
   "execution_count": null,
   "id": "29e6b289-ccda-4671-a4e9-291a52cb4c9a",
   "metadata": {},
   "outputs": [],
   "source": []
  },
  {
   "cell_type": "code",
   "execution_count": null,
   "id": "27dff094-7a50-403b-ba87-691f3249fa60",
   "metadata": {},
   "outputs": [],
   "source": []
  }
 ],
 "metadata": {
  "kernelspec": {
   "display_name": "Python 3 (ipykernel)",
   "language": "python",
   "name": "python3"
  },
  "language_info": {
   "codemirror_mode": {
    "name": "ipython",
    "version": 3
   },
   "file_extension": ".py",
   "mimetype": "text/x-python",
   "name": "python",
   "nbconvert_exporter": "python",
   "pygments_lexer": "ipython3",
   "version": "3.11.7"
  }
 },
 "nbformat": 4,
 "nbformat_minor": 5
}
